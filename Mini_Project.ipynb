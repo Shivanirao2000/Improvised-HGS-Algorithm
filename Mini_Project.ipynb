{
  "nbformat": 4,
  "nbformat_minor": 0,
  "metadata": {
    "colab": {
      "name": "Mini Project.ipynb",
      "provenance": [],
      "collapsed_sections": [
        "bvvC2IslClhr",
        "X6afUqyiCE80",
        "WPaQertH17El",
        "ue7FHhswyGDq",
        "NuZ75obKpEvA",
        "6Gh-FKu1TKth",
        "fty7YRwXdTwS",
        "pnM2wwymdYCC",
        "RLMxphOKdc2f",
        "oAla-NKEyeKR",
        "MEO_5Y4J-7Mj",
        "xU1lSnCP-_44",
        "wGV-QHVV_F60",
        "lAoRsr-t_Oyd",
        "onbFDjRN_Tmo"
      ],
      "toc_visible": true,
      "include_colab_link": true
    },
    "kernelspec": {
      "name": "python3",
      "display_name": "Python 3"
    },
    "language_info": {
      "name": "python"
    }
  },
  "cells": [
    {
      "cell_type": "markdown",
      "metadata": {
        "id": "view-in-github",
        "colab_type": "text"
      },
      "source": [
        "<a href=\"https://colab.research.google.com/github/Shivanirao2000/Improvised-HGS-Algorithm/blob/main/Mini_Project.ipynb\" target=\"_parent\"><img src=\"https://colab.research.google.com/assets/colab-badge.svg\" alt=\"Open In Colab\"/></a>"
      ]
    },
    {
      "cell_type": "markdown",
      "metadata": {
        "id": "bvvC2IslClhr"
      },
      "source": [
        "# Import"
      ]
    },
    {
      "cell_type": "code",
      "metadata": {
        "id": "iqplZIdFG-mN"
      },
      "source": [
        "from numpy import where\n",
        "from numpy.random import uniform, choice, randint, normal\n",
        "from copy import deepcopy\n",
        "import time\n",
        "\n",
        "# Required Libraries\n",
        "import pandas as pd\n",
        "import math\n",
        "import matplotlib.pyplot as plt\n",
        "import numpy as np\n",
        "import random\n",
        "from mpl_toolkits.mplot3d import Axes3D \n",
        "from IPython.display import Image"
      ],
      "execution_count": null,
      "outputs": []
    },
    {
      "cell_type": "code",
      "metadata": {
        "id": "azUKu0-LRcg_"
      },
      "source": [
        "#!/usr/bin/env python\n",
        "# ------------------------------------------------------------------------------------------------------%\n",
        "# Created by \"Thieu Nguyen\" at 08:58, 16/03/2020                                                        %\n",
        "#                                                                                                       %\n",
        "#       Email:      nguyenthieu2102@gmail.com                                                           %\n",
        "#       Homepage:   https://www.researchgate.net/profile/Thieu_Nguyen6                                  %\n",
        "#       Github:     https://github.com/thieu1995                                                  %\n",
        "# -------------------------------------------------------------------------------------------------------%\n",
        "\n",
        "from numpy import where, clip, logical_and, maximum, minimum, power, sin, abs, pi, sqrt, sign, ones, ptp, min, sum, array, ceil, multiply, mean\n",
        "from numpy.random import uniform, random, normal, choice\n",
        "from math import gamma\n",
        "from copy import deepcopy\n",
        "\n",
        "\n",
        "class Root:\n",
        "    \"\"\" This is root of all Algorithms \"\"\"\n",
        "\n",
        "    ID_MIN_PROB = 0  # min problem\n",
        "    ID_MAX_PROB = -1  # max problem\n",
        "\n",
        "    ID_POS = 0  # Position\n",
        "    ID_FIT = 1  # Fitness\n",
        "\n",
        "    EPSILON = 10E-10\n",
        "\n",
        "    DEFAULT_BATCH_IDEA = False\n",
        "    DEFAULT_BATCH_SIZE = 10\n",
        "    DEFAULT_LB = -1\n",
        "    DEFAULT_UB = 1\n",
        "\n",
        "    def __init__(self, obj_func=None, lb=None, ub=None, verbose=True, kwargs=None):\n",
        "        \"\"\"\n",
        "        Parameters\n",
        "        ----------\n",
        "        obj_func : function\n",
        "        lb : list\n",
        "        ub : list\n",
        "        verbose : bool\n",
        "        \"\"\"\n",
        "        if kwargs is None:\n",
        "            kwargs = {}\n",
        "        self.verbose = verbose\n",
        "        self.obj_func = obj_func\n",
        "        self.__check_parameters__(lb, ub, kwargs)\n",
        "        self.__check_optional_parameters__(kwargs)\n",
        "        self.epoch, self.pop_size = None, None\n",
        "        self.solution, self.loss_train = None, []\n",
        "\n",
        "    def __check_parameters__(self, lb, ub, kwargs):\n",
        "        if (lb is None) or (ub is None):\n",
        "            if \"problem_size\" in kwargs:\n",
        "                print(f\"Default lb={self.DEFAULT_LB}, ub={self.DEFAULT_UB}.\")\n",
        "                self.problem_size = self.__check_problem_size__(kwargs[\"problem_size\"])\n",
        "                self.lb = self.DEFAULT_LB * ones(self.problem_size)\n",
        "                self.ub = self.DEFAULT_UB * ones(self.problem_size)\n",
        "            else:\n",
        "                print(\"If lb, ub are undefined, then you must set problem size to be an integer.\")\n",
        "                exit(0)\n",
        "        else:\n",
        "            if isinstance(lb, list) and isinstance(ub, list):\n",
        "                if len(lb) == len(ub):\n",
        "                    if len(lb) == 0:\n",
        "                        if \"problem_size\" in kwargs:\n",
        "                            print(f\"Default lb={self.DEFAULT_LB}, ub={self.DEFAULT_UB}.\")\n",
        "                            self.problem_size = self.__check_problem_size__(kwargs[\"problem_size\"])\n",
        "                            self.lb = self.DEFAULT_LB * ones(self.problem_size)\n",
        "                            self.ub = self.DEFAULT_UB * ones(self.problem_size)\n",
        "                        else:\n",
        "                            print(\"Wrong lower bound and upper bound parameters.\")\n",
        "                            exit(0)\n",
        "                    elif len(lb) == 1:\n",
        "                        if \"problem_size\" in kwargs:\n",
        "                            self.problem_size = self.__check_problem_size__(kwargs[\"problem_size\"])\n",
        "                            self.lb = lb[0] * ones(self.problem_size)\n",
        "                            self.ub = ub[0] * ones(self.problem_size)\n",
        "                    else:\n",
        "                        self.problem_size = len(lb)\n",
        "                        self.lb = array(lb)\n",
        "                        self.ub = array(ub)\n",
        "                else:\n",
        "                    print(\"Lower bound and Upper bound need to be same length\")\n",
        "                    exit(0)\n",
        "            elif type(lb) in [int, float] and type(ub) in [int, float]:\n",
        "                self.problem_size = self.__check_problem_size__(kwargs[\"problem_size\"])\n",
        "                self.lb = lb * ones(self.problem_size)\n",
        "                self.ub = ub * ones(self.problem_size)\n",
        "            else:\n",
        "                print(\"Lower bound and Upper bound need to be a list.\")\n",
        "                exit(0)\n",
        "\n",
        "    def __check_problem_size__(self, problem_size):\n",
        "        if problem_size is None:\n",
        "            print(\"Problem size must be an int number\")\n",
        "            exit(0)\n",
        "        elif problem_size <= 0:\n",
        "            print(\"Problem size must > 0\")\n",
        "            exit(0)\n",
        "        return int(ceil(problem_size))\n",
        "\n",
        "    def __check_optional_parameters__(self, kwargs):\n",
        "        if \"batch_idea\" in kwargs:\n",
        "            batch_idea = kwargs[\"batch_idea\"]\n",
        "            if type(batch_idea) == bool:\n",
        "                self.batch_idea = batch_idea\n",
        "            else:\n",
        "                self.batch_idea = self.DEFAULT_BATCH_IDEA\n",
        "            if \"batch_size\" in kwargs:\n",
        "                batch_size = kwargs[\"batch_size\"]\n",
        "                if type(batch_size) == int:\n",
        "                    self.batch_size = batch_size\n",
        "                else:\n",
        "                    self.batch_size = self.DEFAULT_BATCH_SIZE\n",
        "            else:\n",
        "                self.batch_size = self.DEFAULT_BATCH_SIZE\n",
        "        else:\n",
        "            self.batch_idea = self.DEFAULT_BATCH_IDEA\n",
        "\n",
        "    def create_solution(self, minmax=0):\n",
        "        \"\"\" Return the position position with 2 element: position of position and fitness of position\n",
        "\n",
        "        Parameters\n",
        "        ----------\n",
        "        minmax\n",
        "            0 - minimum problem, else - maximum problem\n",
        "\n",
        "        \"\"\"\n",
        "        position = uniform(self.lb, self.ub)\n",
        "        fitness = self.get_fitness_position(position=position, minmax=minmax)\n",
        "        return [position, fitness]\n",
        "\n",
        "    def get_fitness_position(self, position=None, minmax=0):\n",
        "        \"\"\"     Assumption that objective function always return the original value\n",
        "        :param position: 1-D numpy array\n",
        "        :param minmax: 0- min problem, 1 - max problem\n",
        "        :return:\n",
        "        \"\"\"\n",
        "        return self.obj_func(position) if minmax == 0 else 1.0 / (self.obj_func(position) + self.EPSILON)\n",
        "\n",
        "    def get_fitness_solution(self, solution=None, minmax=0):\n",
        "        return self.get_fitness_position(solution[self.ID_POS], minmax)\n",
        "\n",
        "    def get_global_best_solution(self, pop=None, id_fit=None, id_best=None):\n",
        "        \"\"\" Sort a copy of population and return the copy of the best position \"\"\"\n",
        "        sorted_pop = sorted(pop, key=lambda temp: temp[id_fit])\n",
        "        return deepcopy(sorted_pop[id_best])\n",
        "\n",
        "    def get_global_best_global_worst_solution(self, pop=None, id_fit=None, id_best=None):\n",
        "        sorted_pop = sorted(pop, key=lambda temp: temp[id_fit])\n",
        "        if id_best == self.ID_MIN_PROB:\n",
        "            return deepcopy(sorted_pop[id_best]), deepcopy(sorted_pop[self.ID_MAX_PROB])\n",
        "        elif id_best == self.ID_MAX_PROB:\n",
        "            return deepcopy(sorted_pop[id_best]), deepcopy(sorted_pop[self.ID_MIN_PROB])\n",
        "\n",
        "    def update_global_best_global_worst_solution(self, pop=None, id_best=None, id_worst=None, g_best=None):\n",
        "        \"\"\" Sort the copy of population and update the current best position. Return the new current best position \"\"\"\n",
        "        sorted_pop = sorted(pop, key=lambda temp: temp[self.ID_FIT])\n",
        "        current_best = sorted_pop[id_best]\n",
        "        g_best = deepcopy(current_best) if current_best[self.ID_FIT] < g_best[self.ID_FIT] else deepcopy(g_best)\n",
        "        return g_best, sorted_pop[id_worst]\n",
        "\n",
        "    def get_sorted_pop_and_global_best_solution(self, pop=None, id_fit=None, id_best=None):\n",
        "        \"\"\" Sort population and return the sorted population and the best position \"\"\"\n",
        "        sorted_pop = sorted(pop, key=lambda temp: temp[id_fit])\n",
        "        return sorted_pop, deepcopy(sorted_pop[id_best])\n",
        "\n",
        "    def amend_position(self, position=None):\n",
        "        return maximum(self.lb, minimum(self.ub, position))\n",
        "\n",
        "    def amend_position_faster(self, position=None):\n",
        "        return clip(position, self.lb, self.ub)\n",
        "\n",
        "    def amend_position_random(self, position=None):\n",
        "        for t in range(self.problem_size):\n",
        "            if position[t] < self.lb[t] or position[t] > self.ub[t]:\n",
        "                position[t] = uniform(self.lb[t], self.ub[t])\n",
        "        return position\n",
        "\n",
        "    def amend_position_random_faster(self, position=None):\n",
        "        return where(logical_and(self.lb <= position, position <= self.ub), position, uniform(self.lb, self.ub))\n",
        "\n",
        "    def update_global_best_solution(self, pop=None, id_best=None, g_best=None):\n",
        "        \"\"\" Sort the copy of population and update the current best position. Return the new current best position \"\"\"\n",
        "        sorted_pop = sorted(pop, key=lambda temp: temp[self.ID_FIT])\n",
        "        current_best = sorted_pop[id_best]\n",
        "        return deepcopy(current_best) if current_best[self.ID_FIT] < g_best[self.ID_FIT] else deepcopy(g_best)\n",
        "\n",
        "    def update_sorted_population_and_global_best_solution(self, pop=None, id_best=None, g_best=None):\n",
        "        \"\"\" Sort the population and update the current best position. Return the sorted population and the new current best position \"\"\"\n",
        "        sorted_pop = sorted(pop, key=lambda temp: temp[self.ID_FIT])\n",
        "        current_best = sorted_pop[id_best]\n",
        "        g_best = deepcopy(current_best) if current_best[self.ID_FIT] < g_best[self.ID_FIT] else deepcopy(g_best)\n",
        "        return sorted_pop, g_best\n",
        "\n",
        "    def create_opposition_position(self, position=None, g_best=None):\n",
        "        return self.lb + self.ub - g_best[self.ID_POS] + uniform() * (g_best[self.ID_POS] - position)\n",
        "\n",
        "    def levy_flight(self, epoch=None, position=None, g_best_position=None, step=0.001, case=0):\n",
        "        \"\"\"\n",
        "        Parameters\n",
        "        ----------\n",
        "        epoch (int): current iteration\n",
        "        position : 1-D numpy array\n",
        "        g_best_position : 1-D numpy array\n",
        "        step (float, optional): 0.001\n",
        "        case (int, optional): 0, 1, 2\n",
        "\n",
        "        \"\"\"\n",
        "        beta = 1\n",
        "        # muy and v are two random variables which follow normal distribution\n",
        "        # sigma_muy : standard deviation of muy\n",
        "        sigma_muy = power(gamma(1 + beta) * sin(pi * beta / 2) / (gamma((1 + beta) / 2) * beta * power(2, (beta - 1) / 2)), 1 / beta)\n",
        "        # sigma_v : standard deviation of v\n",
        "        sigma_v = 1\n",
        "        muy = normal(0, sigma_muy ** 2)\n",
        "        v = normal(0, sigma_v ** 2)\n",
        "        s = muy / power(abs(v), 1 / beta)\n",
        "        levy = uniform(self.lb, self.ub) * step * s * (position - g_best_position)\n",
        "\n",
        "        if case == 0:\n",
        "            return levy\n",
        "        elif case == 1:\n",
        "            return position + 1.0 / sqrt(epoch + 1) * sign(random() - 0.5) * levy\n",
        "        elif case == 2:\n",
        "            return position + normal(0, 1, len(self.lb)) * levy\n",
        "        elif case == 3:\n",
        "            return position + 0.01 * levy\n",
        "\n",
        "    def levy_flight_1(self, position=None):\n",
        "        alpha = 0.01\n",
        "        xichma_v = 1\n",
        "        xichma_u = ((gamma(1 + 1.5) * sin(pi * 1.5 / 2)) / (gamma((1 + 1.5) / 2) * 1.5 * 2 ** ((1.5 - 1) / 2))) ** (1.0 / 1.5)\n",
        "        levy_b = (normal(0, xichma_u ** 2)) / (sqrt(abs(normal(0, xichma_v ** 2))) ** (1.0 / 1.5))\n",
        "        return position + (alpha * levy_b * position)\n",
        "    \n",
        "    def levy_flight_2(self, position=None, g_best_position=None):\n",
        "        alpha = 0.01\n",
        "        xichma_v = 1\n",
        "        xichma_u = ((gamma(1 + 1.5) * sin(pi * 1.5 / 2)) / (gamma((1 + 1.5) / 2) * 1.5 * 2 ** ((1.5 - 1) / 2))) ** (1.0 / 1.5)\n",
        "        levy_b = (normal(0, xichma_u ** 2)) / (sqrt(abs(normal(0, xichma_v ** 2))) ** (1.0 / 1.5))\n",
        "        return position + alpha * levy_b * (position - g_best_position)\n",
        "\n",
        "    def cauchy(self, position=None):\n",
        "        alpha = 0.01\n",
        "        cauchy_s = np.tan((uniform(0,1)-0.5) * math.pi)\n",
        "        return position + (alpha * cauchy_s * position)\n",
        "\n",
        "    def step_size_by_levy_flight(self, multiplier=0.001, beta=1.0, case=0):\n",
        "        \"\"\"\n",
        "        Parameters\n",
        "        ----------\n",
        "        multiplier (float, optional): 0.01\n",
        "        beta: [0-2]\n",
        "            + 0-1: small range --> exploit\n",
        "            + 1-2: large range --> explore\n",
        "        case: 0, 1, -1\n",
        "            + 0: return multiplier * s * uniform()\n",
        "            + 1: return multiplier * s * normal(0, 1)\n",
        "            + -1: return multiplier * s\n",
        "        \"\"\"\n",
        "        # u and v are two random variables which follow normal distribution\n",
        "        # sigma_u : standard deviation of u\n",
        "        sigma_u = power(gamma(1 + beta) * sin(pi * beta / 2) / (gamma((1 + beta) / 2) * beta * power(2, (beta - 1) / 2)), 1 / beta)\n",
        "        # sigma_v : standard deviation of v\n",
        "        sigma_v = 1\n",
        "        u = normal(0, sigma_u ** 2)\n",
        "        v = normal(0, sigma_v ** 2)\n",
        "        s = u / power(abs(v), 1 / beta)\n",
        "        if case == 0:\n",
        "            step = multiplier * s * uniform()\n",
        "        elif case == 1:\n",
        "            step = multiplier * s * normal(0, 1)\n",
        "        else:\n",
        "            step = multiplier * s\n",
        "        return step\n",
        "\n",
        "    def get_index_roulette_wheel_selection(self, list_fitness=None):\n",
        "        \"\"\" It can handle negative also. Make sure your list fitness is 1D-numpy array\"\"\"\n",
        "        scaled_fitness = (list_fitness - min(list_fitness)) / (ptp(list_fitness) + self.EPSILON)\n",
        "        minimized_fitness = 1.0 - scaled_fitness\n",
        "        total_sum = sum(minimized_fitness)\n",
        "        r = uniform(low=0, high=total_sum)\n",
        "        for idx, f in enumerate(minimized_fitness):\n",
        "            r = r + f\n",
        "            if r > total_sum:\n",
        "                return idx\n",
        "\n",
        "    def get_parent_kway_tournament_selection(self, pop=None, k_way=0.2, output=2):\n",
        "        if 0 < k_way < 1:\n",
        "            k_way = int(k_way * len(pop))\n",
        "        list_id = choice(range(len(pop)), k_way, replace=False)\n",
        "        list_parents = [pop[i] for i in list_id]\n",
        "        list_parents = sorted(list_parents, key=lambda temp: temp[self.ID_FIT])\n",
        "        return list_parents[:output]\n",
        "\n",
        "    ### Crossover\n",
        "    def crossover_arthmetic_recombination(self, dad_pos=None, mom_pos=None):\n",
        "        r = uniform()           # w1 = w2 when r =0.5\n",
        "        w1 = multiply(r, dad_pos) + multiply((1 - r), mom_pos)\n",
        "        w2 = multiply(r, mom_pos) + multiply((1 - r), dad_pos)\n",
        "        return w1, w2\n",
        "\n",
        "    ### Mutation\n",
        "    ### This method won't be used in any algorithm because of it's slow performance\n",
        "    ### Using numpy vector for faster performance\n",
        "    def mutation_flip_point(self, parent_pos, idx):\n",
        "        w = deepcopy(parent_pos)\n",
        "        w[idx] = uniform(self.lb[idx], self.ub[idx])\n",
        "        return w\n",
        "\n",
        "\n",
        "    #### Improved techniques can be used in any algorithms: 1\n",
        "    ## Based on this paper: An efficient equilibrium optimizer with mutation strategy for numerical optimization (but still different)\n",
        "    ## This scheme used after the original and including 4 step:\n",
        "    ##  s1: sort population, take p1 = 1/2 best population for next round\n",
        "    ##  s2: do the mutation for p1, using greedy method to select the better solution\n",
        "    ##  s3: do the search mechanism for p1 (based on global best solution and the updated p1 above), to make p2 population\n",
        "    ##  s4: construct the new population for next generation\n",
        "    def improved_ms(self, pop=None, g_best=None):    ## m: mutation, s: search\n",
        "        pop_len = int(len(pop) / 2)\n",
        "        ## Sort the updated population based on fitness\n",
        "        pop = sorted(pop, key=lambda item: item[self.ID_FIT])\n",
        "        pop_s1, pop_s2 = pop[:pop_len], pop[pop_len:]\n",
        "        ## Mutation scheme\n",
        "        for i in range(0, pop_len):\n",
        "            pos_new = pop_s1[i][self.ID_POS] * (1 + normal(0, 1, self.problem_size))\n",
        "            fit = self.get_fitness_position(pos_new)\n",
        "            if fit < pop_s1[i][self.ID_FIT]:        ## Greedy method --> improved exploitation\n",
        "                pop_s1[i] = [pos_new, fit]\n",
        "        ## Search Mechanism\n",
        "        pos_s1_list = [item[self.ID_POS] for item in pop_s1]\n",
        "        pos_s1_mean = mean(pos_s1_list, axis=0)\n",
        "        for i in range(0, pop_len):\n",
        "            pos_new = (g_best[self.ID_POS] - pos_s1_mean) - random() * (self.lb + random() * (self.ub - self.lb))\n",
        "            fit = self.get_fitness_position(pos_new)\n",
        "            pop_s2[i] = [pos_new, fit]              ## Keep the diversity of populatoin and still improved the exploration\n",
        "\n",
        "        ## Construct a new population\n",
        "        pop = pop_s1 + pop_s2\n",
        "        pop, g_best = self.update_sorted_population_and_global_best_solution(pop, self.ID_MIN_PROB, g_best)\n",
        "        return pop, g_best\n",
        "\n",
        "    def train(self):\n",
        "        pass\n"
      ],
      "execution_count": null,
      "outputs": []
    },
    {
      "cell_type": "markdown",
      "metadata": {
        "id": "X6afUqyiCE80"
      },
      "source": [
        "# Hunger Search Algorithm and Its Modified Versions"
      ]
    },
    {
      "cell_type": "markdown",
      "metadata": {
        "id": "WPaQertH17El"
      },
      "source": [
        "## Hunger Game Search"
      ]
    },
    {
      "cell_type": "code",
      "metadata": {
        "id": "CQnggrE87e-S"
      },
      "source": [
        "from numpy import array, mean, exp, ones\n",
        "from numpy.random import rand, normal\n",
        "\n",
        "\n",
        "class OriginalHGS(Root):\n",
        "    \"\"\"\n",
        "        The original verion of: Hunger Games Search (HGS)\n",
        "        Link:\n",
        "            https://aliasgharheidari.com/HGS.html\n",
        "            Hunger Games Search (HGS): Visions, Conception, Implementation, Deep Analysis, Perspectives, and Towards Performance Shifts\n",
        "    \"\"\"\n",
        "\n",
        "    def __init__(self, obj_func=None, lb=None, ub=None, verbose=True, epoch=750, pop_size=100, L=0.08, LH=10000, **kwargs):\n",
        "        Root.__init__(self, obj_func, lb, ub, verbose, kwargs)\n",
        "        self.epoch = epoch\n",
        "        self.pop_size = pop_size\n",
        "        self.L = L\n",
        "        self.LH = LH\n",
        "\n",
        "    def get_hunger_list(self, pop=None, hunger_list=array, g_best=None, g_worst=None):\n",
        "        # min_index = pop.index(min(pop, key=lambda x: x[self.ID_FIT]))\n",
        "        # Eq (2.8) and (2.9)\n",
        "        for i in range(0, self.pop_size):\n",
        "            r = rand()\n",
        "            # space: since we pass lower bound and upper bound as list. Better take the mean of them.\n",
        "            space = mean(self.ub - self.lb)\n",
        "            H = (pop[i][self.ID_FIT] - g_best[self.ID_FIT]) / (g_worst[self.ID_FIT] - g_best[self.ID_FIT] + self.EPSILON) * r * 2 * space\n",
        "            if H < self.LH:\n",
        "                H = self.LH * (1 + r)\n",
        "            hunger_list[i] += H\n",
        " \n",
        "            if g_best[self.ID_FIT] == pop[i][self.ID_FIT]:\n",
        "                hunger_list[i] = 0\n",
        "        return hunger_list\n",
        "\n",
        "    def sech(self, x):\n",
        "        return 2 / (exp(x) + exp(-x))\n",
        "\n",
        "    def train(self):\n",
        "        # Hungry value of all solutions\n",
        "        hunger_list = ones(self.pop_size)\n",
        "\n",
        "        # Create population\n",
        "        pop = [self.create_solution() for _ in range(self.pop_size)]\n",
        "\n",
        "        ## Eq. (2.2)\n",
        "        ### Find the current best and current worst\n",
        "        g_best, g_worst = self.get_global_best_global_worst_solution(pop, self.ID_FIT, self.ID_MIN_PROB)\n",
        "\n",
        "        hunger_list = self.get_hunger_list(pop, hunger_list, g_best, g_worst)\n",
        "        hist = []\n",
        "        # Loop\n",
        "        for epoch in range(self.epoch):\n",
        "\n",
        "            ## Eq. (2.4)\n",
        "            shrink = 2 * (1 - (epoch + 1) / self.epoch)\n",
        "\n",
        "            for i in range(0, self.pop_size):\n",
        "                #### Variation control\n",
        "                E = self.sech(pop[i][self.ID_FIT] - g_best[self.ID_FIT])\n",
        "\n",
        "                # R is a ranging controller added to limit the range of activity, in which the range of R is gradually reduced to 0\n",
        "                R = 2 * shrink * rand() - shrink  # Eq. (2.3)\n",
        "\n",
        "                ## Calculate the hungry weight of each position\n",
        "                if rand() < self.L:\n",
        "                    W1 = hunger_list[i] * self.pop_size / (sum(hunger_list) + self.EPSILON) * rand()\n",
        "                else:\n",
        "                    W1 = 1\n",
        "                W2 = (1 - exp(-abs(hunger_list[i] - sum(hunger_list)))) * rand() * 2\n",
        "\n",
        "                ### Udpate position of individual Eq. (2.1)\n",
        "                r1 = rand()\n",
        "                r2 = rand()\n",
        "                if r1 < self.L:\n",
        "                    pos_new = pop[i][self.ID_POS] * (1 + normal(0, 1))\n",
        "                else:\n",
        "                    if r2 > E:\n",
        "                        pos_new = W1 * g_best[self.ID_POS] + R * W2 * abs(g_best[self.ID_POS] - pop[i][self.ID_POS])\n",
        "                    else:\n",
        "                        pos_new = W1 * g_best[self.ID_POS] - R * W2 * abs(g_best[self.ID_POS] - pop[i][self.ID_POS])\n",
        "                fit_new = self.get_fitness_position(pos_new)\n",
        "                pop[i] = [pos_new, fit_new]\n",
        "\n",
        "            ## Update global best and global worst\n",
        "            g_best, g_worst = self.update_global_best_global_worst_solution(pop, self.ID_MIN_PROB, self.ID_MAX_PROB, g_best)\n",
        "\n",
        "            ## Update hunger list\n",
        "            hunger_list = self.get_hunger_list(pop, hunger_list, g_best, g_worst)\n",
        "\n",
        "            self.loss_train.append(g_best[self.ID_FIT])\n",
        "            hist.append(g_best[self.ID_FIT])\n",
        "            if self.verbose:\n",
        "                print(\"> Epoch: {}, Best fit: {}\".format(epoch + 1, g_best[self.ID_FIT]))\n",
        "        self.solution = g_best\n",
        "        return g_best[self.ID_POS], g_best[self.ID_FIT], self.loss_train, hist"
      ],
      "execution_count": null,
      "outputs": []
    },
    {
      "cell_type": "markdown",
      "metadata": {
        "id": "ue7FHhswyGDq"
      },
      "source": [
        "## Hunger Game Search V1"
      ]
    },
    {
      "cell_type": "code",
      "metadata": {
        "id": "BilSFUN-yJwR"
      },
      "source": [
        "from numpy import array, mean, exp, ones\n",
        "from numpy.random import rand, normal\n",
        "\n",
        "\n",
        "class LevyHGS(Root):\n",
        "    \"\"\"\n",
        "        The original verion of: Hunger Games Search (HGS)\n",
        "        Link:\n",
        "            https://aliasgharheidari.com/HGS.html\n",
        "            Hunger Games Search (HGS): Visions, Conception, Implementation, Deep Analysis, Perspectives, and Towards Performance Shifts\n",
        "    \"\"\"\n",
        "\n",
        "    def __init__(self, obj_func=None, lb=None, ub=None, verbose=True, epoch=750, pop_size=100, L=0.08, LH=10000, **kwargs):\n",
        "        Root.__init__(self, obj_func, lb, ub, verbose, kwargs)\n",
        "        self.epoch = epoch\n",
        "        self.pop_size = pop_size\n",
        "        self.L = L\n",
        "        self.LH = LH\n",
        "\n",
        "    def get_hunger_list(self, pop=None, hunger_list=array, g_best=None, g_worst=None):\n",
        "        # min_index = pop.index(min(pop, key=lambda x: x[self.ID_FIT]))\n",
        "        # Eq (2.8) and (2.9)\n",
        "        for i in range(0, self.pop_size):\n",
        "            r = rand()\n",
        "            # space: since we pass lower bound and upper bound as list. Better take the mean of them.\n",
        "            space = mean(self.ub - self.lb)\n",
        "            H = (pop[i][self.ID_FIT] - g_best[self.ID_FIT]) / (g_worst[self.ID_FIT] - g_best[self.ID_FIT] + self.EPSILON) * r * 2 * space\n",
        "            if H < self.LH:\n",
        "                H = self.LH * (1 + r)\n",
        "            hunger_list[i] += H\n",
        " \n",
        "            if g_best[self.ID_FIT] == pop[i][self.ID_FIT]:\n",
        "                hunger_list[i] = 0\n",
        "        return hunger_list\n",
        "\n",
        "    def sech(self, x):\n",
        "        return 2 / (exp(x) + exp(-x))\n",
        "\n",
        "    def train(self):\n",
        "        # Hungry value of all solutions\n",
        "        hunger_list = ones(self.pop_size)\n",
        "\n",
        "        # Create population\n",
        "        pop = [self.create_solution() for _ in range(self.pop_size)]\n",
        "\n",
        "       \n",
        "        ### Find the current best and current worst\n",
        "        g_best, g_worst = self.get_global_best_global_worst_solution(pop, self.ID_FIT, self.ID_MIN_PROB)\n",
        "\n",
        "        hunger_list = self.get_hunger_list(pop, hunger_list, g_best, g_worst)\n",
        "        hist = []\n",
        "        # Loop\n",
        "        for epoch in range(self.epoch):\n",
        "\n",
        "            ## Eq. (2.4)\n",
        "            shrink = 2 * (1 - (epoch + 1) / self.epoch)\n",
        "\n",
        "            for i in range(0, self.pop_size):\n",
        "                ## Eq. (2.2)\n",
        "                #### Variation control\n",
        "                E = self.sech(pop[i][self.ID_FIT] - g_best[self.ID_FIT])\n",
        "\n",
        "                # R is a ranging controller added to limit the range of activity, in which the range of R is gradually reduced to 0\n",
        "                R = 2 * shrink * rand() - shrink  # Eq. (2.3)\n",
        "\n",
        "                ## Calculate the hungry weight of each position Eq.(2.5, 2.6)\n",
        "                if rand() < self.L:\n",
        "                    W1 = hunger_list[i] * self.pop_size / (sum(hunger_list) + self.EPSILON) * rand()\n",
        "                else:\n",
        "                    W1 = 1\n",
        "                W2 = (1 - exp(-abs(hunger_list[i] - sum(hunger_list)))) * rand() * 2\n",
        "\n",
        "                ### Udpate position of individual Eq. (2.1)\n",
        "                r1 = rand()\n",
        "                r2 = rand()\n",
        "                if r1 < self.L:\n",
        "                    pos_new = pop[i][self.ID_POS] * (1 + normal(0, 1))\n",
        "                else:\n",
        "                    if r2 > E:\n",
        "                        pos_new = W1 * g_best[self.ID_POS] + R * W2 * abs(g_best[self.ID_POS] - pop[i][self.ID_POS])\n",
        "                    else:\n",
        "                        pos_new = W1 * g_best[self.ID_POS] - R * W2 * abs(g_best[self.ID_POS] - pop[i][self.ID_POS])\n",
        "                fit_new = self.get_fitness_position(pos_new)\n",
        "                pop[i][self.ID_POS] = self.levy_flight_1(pop[i][self.ID_POS])\n",
        "                if fit_new < pop[i][self.ID_FIT]:\n",
        "                    pop[i] = [pos_new, fit_new]\n",
        "\n",
        "            ## Update global best and global worst\n",
        "            g_best, g_worst = self.update_global_best_global_worst_solution(pop, self.ID_MIN_PROB, self.ID_MAX_PROB, g_best)\n",
        "\n",
        "            ## Update hunger list\n",
        "            hunger_list = self.get_hunger_list(pop, hunger_list, g_best, g_worst)\n",
        "\n",
        "            self.loss_train.append(g_best[self.ID_FIT])\n",
        "            hist.append(g_best[self.ID_FIT])\n",
        "            if self.verbose:\n",
        "                print(\"> Epoch: {}, Best fit: {}\".format(epoch + 1, g_best[self.ID_FIT]))\n",
        "        self.solution = g_best\n",
        "        return g_best[self.ID_POS], g_best[self.ID_FIT], self.loss_train, hist"
      ],
      "execution_count": null,
      "outputs": []
    },
    {
      "cell_type": "markdown",
      "metadata": {
        "id": "NuZ75obKpEvA"
      },
      "source": [
        "## Hunger Game Search V2"
      ]
    },
    {
      "cell_type": "code",
      "metadata": {
        "id": "D4dlTN4PpHpV"
      },
      "source": [
        "from numpy import array, mean, exp, ones\n",
        "from numpy.random import rand, normal\n",
        "\n",
        "\n",
        "class CauchyHGS(Root):\n",
        "    \"\"\"\n",
        "        The original verion of: Hunger Games Search (HGS)\n",
        "        Link:\n",
        "            https://aliasgharheidari.com/HGS.html\n",
        "            Hunger Games Search (HGS): Visions, Conception, Implementation, Deep Analysis, Perspectives, and Towards Performance Shifts\n",
        "    \"\"\"\n",
        "\n",
        "    def __init__(self, obj_func=None, lb=None, ub=None, verbose=True, epoch=750, pop_size=100, L=0.08, LH=10000, **kwargs):\n",
        "        Root.__init__(self, obj_func, lb, ub, verbose, kwargs)\n",
        "        self.epoch = epoch\n",
        "        self.pop_size = pop_size\n",
        "        self.L = L\n",
        "        self.LH = LH\n",
        "\n",
        "    def get_hunger_list(self, pop=None, hunger_list=array, g_best=None, g_worst=None):\n",
        "        # min_index = pop.index(min(pop, key=lambda x: x[self.ID_FIT]))\n",
        "        # Eq (2.8) and (2.9)\n",
        "        for i in range(0, self.pop_size):\n",
        "            r = rand()\n",
        "            # space: since we pass lower bound and upper bound as list. Better take the mean of them.\n",
        "            space = mean(self.ub - self.lb)\n",
        "            H = (pop[i][self.ID_FIT] - g_best[self.ID_FIT]) / (g_worst[self.ID_FIT] - g_best[self.ID_FIT] + self.EPSILON) * r * 2 * space\n",
        "            if H < self.LH:\n",
        "                H = self.LH * (1 + r)\n",
        "            hunger_list[i] += H\n",
        " \n",
        "            if g_best[self.ID_FIT] == pop[i][self.ID_FIT]:\n",
        "                hunger_list[i] = 0\n",
        "        return hunger_list\n",
        "\n",
        "    def sech(self, x):\n",
        "        return 2 / (exp(x) + exp(-x))\n",
        "\n",
        "    def train(self):\n",
        "        # Hungry value of all solutions\n",
        "        hunger_list = ones(self.pop_size)\n",
        "\n",
        "        # Create population\n",
        "        pop = [self.create_solution() for _ in range(self.pop_size)]\n",
        "\n",
        "       \n",
        "        ### Find the current best and current worst\n",
        "        g_best, g_worst = self.get_global_best_global_worst_solution(pop, self.ID_FIT, self.ID_MIN_PROB)\n",
        "\n",
        "        hunger_list = self.get_hunger_list(pop, hunger_list, g_best, g_worst)\n",
        "        hist = []\n",
        "        # Loop\n",
        "        for epoch in range(self.epoch):\n",
        "\n",
        "            ## Eq. (2.4)\n",
        "            shrink = 2 * (1 - (epoch + 1) / self.epoch)\n",
        "\n",
        "            for i in range(0, self.pop_size):\n",
        "                ## Eq. (2.2)\n",
        "                #### Variation control\n",
        "                E = self.sech(pop[i][self.ID_FIT] - g_best[self.ID_FIT])\n",
        "\n",
        "                # R is a ranging controller added to limit the range of activity, in which the range of R is gradually reduced to 0\n",
        "                R = 2 * shrink * rand() - shrink  # Eq. (2.3)\n",
        "\n",
        "                ## Calculate the hungry weight of each position Eq.(2.5, 2.6)\n",
        "                if rand() < self.L:\n",
        "                    W1 = hunger_list[i] * self.pop_size / (sum(hunger_list) + self.EPSILON) * rand()\n",
        "                else:\n",
        "                    W1 = 1\n",
        "                W2 = (1 - exp(-abs(hunger_list[i] - sum(hunger_list)))) * rand() * 2\n",
        "\n",
        "                ### Udpate position of individual Eq. (2.1)\n",
        "                r1 = rand()\n",
        "                r2 = rand()\n",
        "                if r1 < self.L:\n",
        "                    pos_new = pop[i][self.ID_POS] * (1 + normal(0, 1))\n",
        "                else:\n",
        "                    if r2 > E:\n",
        "                        pos_new = W1 * g_best[self.ID_POS] + R * W2 * abs(g_best[self.ID_POS] - pop[i][self.ID_POS])\n",
        "                    else:\n",
        "                        pos_new = W1 * g_best[self.ID_POS] - R * W2 * abs(g_best[self.ID_POS] - pop[i][self.ID_POS])\n",
        "                fit_new = self.get_fitness_position(pos_new)\n",
        "                pop[i][self.ID_POS] = self.cauchy(pop[i][self.ID_POS])\n",
        "                if fit_new < pop[i][self.ID_FIT]:\n",
        "                    pop[i] = [pos_new, fit_new]\n",
        "\n",
        "            ## Update global best and global worst\n",
        "            g_best, g_worst = self.update_global_best_global_worst_solution(pop, self.ID_MIN_PROB, self.ID_MAX_PROB, g_best)\n",
        "\n",
        "            ## Update hunger list\n",
        "            hunger_list = self.get_hunger_list(pop, hunger_list, g_best, g_worst)\n",
        "\n",
        "            self.loss_train.append(g_best[self.ID_FIT])\n",
        "            hist.append(g_best[self.ID_FIT])\n",
        "            if self.verbose:\n",
        "                print(\"> Epoch: {}, Best fit: {}\".format(epoch + 1, g_best[self.ID_FIT]))\n",
        "        self.solution = g_best\n",
        "        return g_best[self.ID_POS], g_best[self.ID_FIT], self.loss_train, hist"
      ],
      "execution_count": null,
      "outputs": []
    },
    {
      "cell_type": "markdown",
      "metadata": {
        "id": "6Gh-FKu1TKth"
      },
      "source": [
        "# CEC 2014"
      ]
    },
    {
      "cell_type": "code",
      "metadata": {
        "colab": {
          "base_uri": "https://localhost:8080/"
        },
        "id": "vON9WADjxGFO",
        "outputId": "92791bd0-4c21-4199-870f-f67150c11174"
      },
      "source": [
        "!pip install opfunu"
      ],
      "execution_count": null,
      "outputs": [
        {
          "output_type": "stream",
          "text": [
            "Collecting opfunu\n",
            "\u001b[?25l  Downloading https://files.pythonhosted.org/packages/17/f9/d8419aea57fda6952478936d180ecc98e5f85e03ed14acac975caf360af0/opfunu-0.8.0-py3-none-any.whl (7.4MB)\n",
            "\u001b[K     |████████████████████████████████| 7.5MB 5.1MB/s \n",
            "\u001b[?25hRequirement already satisfied: numpy in /usr/local/lib/python3.7/dist-packages (from opfunu) (1.19.5)\n",
            "Installing collected packages: opfunu\n",
            "Successfully installed opfunu-0.8.0\n"
          ],
          "name": "stdout"
        }
      ]
    },
    {
      "cell_type": "code",
      "metadata": {
        "id": "DRwJYAiPCOh1"
      },
      "source": [
        "lb1=-100\n",
        "ub1=100\n",
        "problem_size = 10\n",
        "verbose=False\n",
        "epoch=5*problem_size\n",
        "pop_size=20"
      ],
      "execution_count": null,
      "outputs": []
    },
    {
      "cell_type": "code",
      "metadata": {
        "id": "LFtuMxw0vKfV"
      },
      "source": [
        "import numpy as np\n",
        "from opfunu.cec.cec2014.function import *"
      ],
      "execution_count": null,
      "outputs": []
    },
    {
      "cell_type": "code",
      "metadata": {
        "id": "UaJkINqkG_8T"
      },
      "source": [
        "optimizer1 = [OriginalHGS, LevyHGS, CauchyHGS]\n",
        "obj_functions1 = [F1, F2, F3, F4, F5, F6, F7, F8, F9, F10, F11, F12, F13, F14, F15, F16, F17, F18, F19, F20, F21, F22, F23, F24, F25, F26, F27, F28]"
      ],
      "execution_count": null,
      "outputs": []
    },
    {
      "cell_type": "markdown",
      "metadata": {
        "id": "fty7YRwXdTwS"
      },
      "source": [
        "## Wilcoxon sign rank"
      ]
    },
    {
      "cell_type": "code",
      "metadata": {
        "id": "L_M4lRXyg1dR"
      },
      "source": [
        "mean_error = pd.DataFrame()"
      ],
      "execution_count": null,
      "outputs": []
    },
    {
      "cell_type": "code",
      "metadata": {
        "colab": {
          "base_uri": "https://localhost:8080/"
        },
        "id": "7MenHVzuDexX",
        "outputId": "b131021d-3924-49c6-91d6-2deca44751fd"
      },
      "source": [
        "obj_func = F2\n",
        "i = 2\n",
        "runs = 51\n",
        "for opt in optimizer1:\n",
        "  print(opt.__name__)\n",
        "  a = 0\n",
        "  for _ in range(runs):\n",
        "    md = opt(obj_func, lb1, ub1, verbose, epoch, pop_size, problem_size=problem_size)\n",
        "    best_pos, best_fit, list_loss, hist = md.train()\n",
        "    a += best_fit - (i+1)*100\n",
        "  mean_error.at[opt.__name__, obj_func.__name__] = a/runs\n",
        "\n",
        "mean_error.to_csv('files/mean_error_10.csv')"
      ],
      "execution_count": null,
      "outputs": [
        {
          "output_type": "stream",
          "text": [
            "OriginalHGS\n"
          ],
          "name": "stdout"
        },
        {
          "output_type": "stream",
          "text": [
            "/usr/local/lib/python3.7/dist-packages/ipykernel_launcher.py:37: RuntimeWarning: overflow encountered in exp\n"
          ],
          "name": "stderr"
        },
        {
          "output_type": "stream",
          "text": [
            "LevyHGS\n",
            "CauchyHGS\n"
          ],
          "name": "stdout"
        }
      ]
    },
    {
      "cell_type": "code",
      "metadata": {
        "colab": {
          "base_uri": "https://localhost:8080/",
          "height": 143
        },
        "id": "FHDDA0XmqpKJ",
        "outputId": "aa3c0669-7451-4dcc-b699-3a9d8075c04e"
      },
      "source": [
        "mean_error"
      ],
      "execution_count": null,
      "outputs": [
        {
          "output_type": "execute_result",
          "data": {
            "text/html": [
              "<div>\n",
              "<style scoped>\n",
              "    .dataframe tbody tr th:only-of-type {\n",
              "        vertical-align: middle;\n",
              "    }\n",
              "\n",
              "    .dataframe tbody tr th {\n",
              "        vertical-align: top;\n",
              "    }\n",
              "\n",
              "    .dataframe thead th {\n",
              "        text-align: right;\n",
              "    }\n",
              "</style>\n",
              "<table border=\"1\" class=\"dataframe\">\n",
              "  <thead>\n",
              "    <tr style=\"text-align: right;\">\n",
              "      <th></th>\n",
              "      <th>F2</th>\n",
              "    </tr>\n",
              "  </thead>\n",
              "  <tbody>\n",
              "    <tr>\n",
              "      <th>OriginalHGS</th>\n",
              "      <td>3.411750e+09</td>\n",
              "    </tr>\n",
              "    <tr>\n",
              "      <th>LevyHGS</th>\n",
              "      <td>3.477198e+09</td>\n",
              "    </tr>\n",
              "    <tr>\n",
              "      <th>CauchyHGS</th>\n",
              "      <td>2.875820e+09</td>\n",
              "    </tr>\n",
              "  </tbody>\n",
              "</table>\n",
              "</div>"
            ],
            "text/plain": [
              "                       F2\n",
              "OriginalHGS  3.411750e+09\n",
              "LevyHGS      3.477198e+09\n",
              "CauchyHGS    2.875820e+09"
            ]
          },
          "metadata": {
            "tags": []
          },
          "execution_count": 13
        }
      ]
    },
    {
      "cell_type": "code",
      "metadata": {
        "colab": {
          "base_uri": "https://localhost:8080/",
          "height": 163
        },
        "id": "8fVJtx4IOoBR",
        "outputId": "c88626ba-b899-4b9e-c9c6-5ac27d4b36b6"
      },
      "source": [
        "mean_error = pd.read_csv('files/mean_errors_10.csv', index_col=0)\n",
        "mean_error"
      ],
      "execution_count": null,
      "outputs": [
        {
          "output_type": "execute_result",
          "data": {
            "text/html": [
              "<div>\n",
              "<style scoped>\n",
              "    .dataframe tbody tr th:only-of-type {\n",
              "        vertical-align: middle;\n",
              "    }\n",
              "\n",
              "    .dataframe tbody tr th {\n",
              "        vertical-align: top;\n",
              "    }\n",
              "\n",
              "    .dataframe thead th {\n",
              "        text-align: right;\n",
              "    }\n",
              "</style>\n",
              "<table border=\"1\" class=\"dataframe\">\n",
              "  <thead>\n",
              "    <tr style=\"text-align: right;\">\n",
              "      <th></th>\n",
              "      <th>F1</th>\n",
              "      <th>F2</th>\n",
              "      <th>F3</th>\n",
              "      <th>F4</th>\n",
              "      <th>F5</th>\n",
              "      <th>F6</th>\n",
              "      <th>F7</th>\n",
              "      <th>F8</th>\n",
              "      <th>F9</th>\n",
              "      <th>F10</th>\n",
              "      <th>F11</th>\n",
              "      <th>F12</th>\n",
              "      <th>F13</th>\n",
              "      <th>F14</th>\n",
              "      <th>F15</th>\n",
              "      <th>F16</th>\n",
              "      <th>F17</th>\n",
              "      <th>F18</th>\n",
              "      <th>F19</th>\n",
              "      <th>F20</th>\n",
              "      <th>F21</th>\n",
              "      <th>F22</th>\n",
              "      <th>F23</th>\n",
              "      <th>F24</th>\n",
              "      <th>F25</th>\n",
              "      <th>F26</th>\n",
              "      <th>F27</th>\n",
              "      <th>F28</th>\n",
              "    </tr>\n",
              "  </thead>\n",
              "  <tbody>\n",
              "    <tr>\n",
              "      <th>OriginalHGS</th>\n",
              "      <td>1.390869e+08</td>\n",
              "      <td>5443965254</td>\n",
              "      <td>43921.10407</td>\n",
              "      <td>217.892204</td>\n",
              "      <td>-79.357407</td>\n",
              "      <td>-88.765823</td>\n",
              "      <td>-16.432332</td>\n",
              "      <td>-7.569756</td>\n",
              "      <td>-97.530570</td>\n",
              "      <td>1881.002856</td>\n",
              "      <td>1945.561438</td>\n",
              "      <td>-97.879420</td>\n",
              "      <td>-96.032888</td>\n",
              "      <td>-80.099433</td>\n",
              "      <td>1388.257267</td>\n",
              "      <td>-95.899257</td>\n",
              "      <td>1.345785e+07</td>\n",
              "      <td>217497.25560</td>\n",
              "      <td>599528.3974</td>\n",
              "      <td>541671463</td>\n",
              "      <td>7382119.215</td>\n",
              "      <td>1.910000e+12</td>\n",
              "      <td>2578.876064</td>\n",
              "      <td>3563.188767</td>\n",
              "      <td>2582.726518</td>\n",
              "      <td>2609.123882</td>\n",
              "      <td>510.758223</td>\n",
              "      <td>1321.466252</td>\n",
              "    </tr>\n",
              "    <tr>\n",
              "      <th>LevyHGS</th>\n",
              "      <td>8.491233e+07</td>\n",
              "      <td>4436548898</td>\n",
              "      <td>41537.42875</td>\n",
              "      <td>189.011515</td>\n",
              "      <td>-79.411245</td>\n",
              "      <td>-89.255195</td>\n",
              "      <td>-25.902031</td>\n",
              "      <td>-17.408131</td>\n",
              "      <td>-97.654847</td>\n",
              "      <td>1698.059780</td>\n",
              "      <td>1883.030792</td>\n",
              "      <td>-98.347166</td>\n",
              "      <td>-96.675999</td>\n",
              "      <td>-83.472083</td>\n",
              "      <td>1158.225787</td>\n",
              "      <td>-95.975048</td>\n",
              "      <td>4.336160e+06</td>\n",
              "      <td>61387.67475</td>\n",
              "      <td>186036.2086</td>\n",
              "      <td>1202467495</td>\n",
              "      <td>4660710.465</td>\n",
              "      <td>1.250000e+13</td>\n",
              "      <td>2494.916396</td>\n",
              "      <td>2398.602589</td>\n",
              "      <td>2516.789681</td>\n",
              "      <td>2597.279985</td>\n",
              "      <td>100.027395</td>\n",
              "      <td>100.000318</td>\n",
              "    </tr>\n",
              "    <tr>\n",
              "      <th>CauchyHGS</th>\n",
              "      <td>8.956644e+07</td>\n",
              "      <td>4457194913</td>\n",
              "      <td>43819.35995</td>\n",
              "      <td>169.461578</td>\n",
              "      <td>-79.362038</td>\n",
              "      <td>-89.219287</td>\n",
              "      <td>-17.876549</td>\n",
              "      <td>-14.364153</td>\n",
              "      <td>-97.640935</td>\n",
              "      <td>1660.420683</td>\n",
              "      <td>1792.526921</td>\n",
              "      <td>-98.222270</td>\n",
              "      <td>-96.665673</td>\n",
              "      <td>-83.084543</td>\n",
              "      <td>1164.260309</td>\n",
              "      <td>-96.064891</td>\n",
              "      <td>4.073758e+06</td>\n",
              "      <td>116888.89610</td>\n",
              "      <td>427767.6787</td>\n",
              "      <td>331200968</td>\n",
              "      <td>7952305.016</td>\n",
              "      <td>1.594995e+10</td>\n",
              "      <td>2497.160062</td>\n",
              "      <td>2400.500000</td>\n",
              "      <td>2517.478732</td>\n",
              "      <td>2600.000000</td>\n",
              "      <td>100.001667</td>\n",
              "      <td>100.000318</td>\n",
              "    </tr>\n",
              "  </tbody>\n",
              "</table>\n",
              "</div>"
            ],
            "text/plain": [
              "                       F1          F2  ...         F27          F28\n",
              "OriginalHGS  1.390869e+08  5443965254  ...  510.758223  1321.466252\n",
              "LevyHGS      8.491233e+07  4436548898  ...  100.027395   100.000318\n",
              "CauchyHGS    8.956644e+07  4457194913  ...  100.001667   100.000318\n",
              "\n",
              "[3 rows x 28 columns]"
            ]
          },
          "metadata": {
            "tags": []
          },
          "execution_count": 18
        }
      ]
    },
    {
      "cell_type": "code",
      "metadata": {
        "colab": {
          "base_uri": "https://localhost:8080/",
          "height": 163
        },
        "id": "Hd55jW44Plcd",
        "outputId": "aa7d1afa-5d30-4c99-cb28-a286ac1935ab"
      },
      "source": [
        "mean_error = pd.read_csv('files/mean_errors_100.csv', index_col=0)\n",
        "mean_error"
      ],
      "execution_count": null,
      "outputs": [
        {
          "output_type": "execute_result",
          "data": {
            "text/html": [
              "<div>\n",
              "<style scoped>\n",
              "    .dataframe tbody tr th:only-of-type {\n",
              "        vertical-align: middle;\n",
              "    }\n",
              "\n",
              "    .dataframe tbody tr th {\n",
              "        vertical-align: top;\n",
              "    }\n",
              "\n",
              "    .dataframe thead th {\n",
              "        text-align: right;\n",
              "    }\n",
              "</style>\n",
              "<table border=\"1\" class=\"dataframe\">\n",
              "  <thead>\n",
              "    <tr style=\"text-align: right;\">\n",
              "      <th></th>\n",
              "      <th>F1</th>\n",
              "      <th>F2</th>\n",
              "      <th>F3</th>\n",
              "      <th>F4</th>\n",
              "      <th>F5</th>\n",
              "      <th>F6</th>\n",
              "      <th>F7</th>\n",
              "      <th>F8</th>\n",
              "      <th>F9</th>\n",
              "      <th>F10</th>\n",
              "      <th>F11</th>\n",
              "      <th>F12</th>\n",
              "      <th>F13</th>\n",
              "      <th>F14</th>\n",
              "      <th>F15</th>\n",
              "      <th>F16</th>\n",
              "      <th>F17</th>\n",
              "      <th>F18</th>\n",
              "      <th>F19</th>\n",
              "      <th>F20</th>\n",
              "      <th>F21</th>\n",
              "      <th>F22</th>\n",
              "      <th>F23</th>\n",
              "      <th>F25</th>\n",
              "      <th>F28</th>\n",
              "    </tr>\n",
              "  </thead>\n",
              "  <tbody>\n",
              "    <tr>\n",
              "      <th>OriginalHGS</th>\n",
              "      <td>10808576567</td>\n",
              "      <td>2.890000e+11</td>\n",
              "      <td>451375.0033</td>\n",
              "      <td>120076.99120</td>\n",
              "      <td>-78.588851</td>\n",
              "      <td>62.154991</td>\n",
              "      <td>2838.005524</td>\n",
              "      <td>1669.047259</td>\n",
              "      <td>-15.978490</td>\n",
              "      <td>32267.51815</td>\n",
              "      <td>32211.96756</td>\n",
              "      <td>-95.478805</td>\n",
              "      <td>-89.959124</td>\n",
              "      <td>648.862891</td>\n",
              "      <td>22740287.01</td>\n",
              "      <td>-52.582153</td>\n",
              "      <td>1.855962e+09</td>\n",
              "      <td>38741957416</td>\n",
              "      <td>11148786805</td>\n",
              "      <td>8.250000e+15</td>\n",
              "      <td>9044689604</td>\n",
              "      <td>4.690000e+14</td>\n",
              "      <td>2640.762579</td>\n",
              "      <td>10368.55412</td>\n",
              "      <td>7488.847313</td>\n",
              "    </tr>\n",
              "    <tr>\n",
              "      <th>LevyHGS</th>\n",
              "      <td>8169199082</td>\n",
              "      <td>2.570000e+11</td>\n",
              "      <td>525377.2815</td>\n",
              "      <td>92051.18141</td>\n",
              "      <td>-78.597335</td>\n",
              "      <td>62.983246</td>\n",
              "      <td>2546.595528</td>\n",
              "      <td>1510.794939</td>\n",
              "      <td>-25.379713</td>\n",
              "      <td>30283.71670</td>\n",
              "      <td>31966.30100</td>\n",
              "      <td>-95.018722</td>\n",
              "      <td>-90.752919</td>\n",
              "      <td>558.901881</td>\n",
              "      <td>10518658.63</td>\n",
              "      <td>-52.860817</td>\n",
              "      <td>5.754851e+08</td>\n",
              "      <td>25450862593</td>\n",
              "      <td>6450647677</td>\n",
              "      <td>1.460000e+15</td>\n",
              "      <td>5488566699</td>\n",
              "      <td>1.220000e+14</td>\n",
              "      <td>2504.031389</td>\n",
              "      <td>100.00000</td>\n",
              "      <td>100.003182</td>\n",
              "    </tr>\n",
              "    <tr>\n",
              "      <th>CauchyHGS</th>\n",
              "      <td>9356892188</td>\n",
              "      <td>2.560000e+11</td>\n",
              "      <td>379146.2537</td>\n",
              "      <td>110497.83560</td>\n",
              "      <td>-78.622032</td>\n",
              "      <td>63.701148</td>\n",
              "      <td>2536.774631</td>\n",
              "      <td>1685.394094</td>\n",
              "      <td>-18.764396</td>\n",
              "      <td>31032.12416</td>\n",
              "      <td>31383.47303</td>\n",
              "      <td>-95.290971</td>\n",
              "      <td>-90.987436</td>\n",
              "      <td>568.506254</td>\n",
              "      <td>12328946.03</td>\n",
              "      <td>-53.078065</td>\n",
              "      <td>7.500398e+08</td>\n",
              "      <td>28180723311</td>\n",
              "      <td>12564462039</td>\n",
              "      <td>3.570000e+15</td>\n",
              "      <td>5454659461</td>\n",
              "      <td>9.190000e+13</td>\n",
              "      <td>2502.591732</td>\n",
              "      <td>100.00000</td>\n",
              "      <td>100.003182</td>\n",
              "    </tr>\n",
              "  </tbody>\n",
              "</table>\n",
              "</div>"
            ],
            "text/plain": [
              "                      F1            F2  ...          F25          F28\n",
              "OriginalHGS  10808576567  2.890000e+11  ...  10368.55412  7488.847313\n",
              "LevyHGS       8169199082  2.570000e+11  ...    100.00000   100.003182\n",
              "CauchyHGS     9356892188  2.560000e+11  ...    100.00000   100.003182\n",
              "\n",
              "[3 rows x 25 columns]"
            ]
          },
          "metadata": {
            "tags": []
          },
          "execution_count": 19
        }
      ]
    },
    {
      "cell_type": "code",
      "metadata": {
        "id": "kfgdWeAdiA1C"
      },
      "source": [
        "def wilcoxx(p, mean_error_value1, mean_error_value2):\n",
        "  if p < 0.05 and mean_error_value1 < mean_error_value2:\n",
        "    return 0\n",
        "  elif p < 0.05 and mean_error_value1>= mean_error_value2:\n",
        "    return 1\n",
        "  else:\n",
        "    return 2"
      ],
      "execution_count": null,
      "outputs": []
    },
    {
      "cell_type": "code",
      "metadata": {
        "id": "MMo16HXOiqzd"
      },
      "source": [
        "import numpy as np\n",
        "from scipy.stats import ttest_ind\n",
        "def p(v1, v2):\n",
        "  return ttest_ind(v1, v2)"
      ],
      "execution_count": null,
      "outputs": []
    },
    {
      "cell_type": "code",
      "metadata": {
        "id": "o4p6Hr8nnncF"
      },
      "source": [
        "versus_cauchyhgs = pd.DataFrame()"
      ],
      "execution_count": null,
      "outputs": []
    },
    {
      "cell_type": "code",
      "metadata": {
        "id": "1e_JqXW2SfVw"
      },
      "source": [
        "mean_error = pd.read_csv('files/mean_errors_10.csv', index_col=0)"
      ],
      "execution_count": null,
      "outputs": []
    },
    {
      "cell_type": "code",
      "metadata": {
        "id": "MflP0tnS0xK8"
      },
      "source": [
        "optimizer1 = [OriginalHGS, LevyHGS]\n",
        "obj_functions1 = [F1, F2, F3, F4, F5, F6, F7, F8, F9, F10, F11, F12, F13, F14, F15, F16, F17, F18, F19, F20, F21, F22, F23, F25, F28]\n",
        "opt = 'CauchyHGS'\n",
        "for i in optimizer1:\n",
        "  better = 0\n",
        "  worse = 0\n",
        "  no_sig = 0\n",
        "  for j in obj_functions1:\n",
        "    obj_error = pd.read_csv('files/'+j.__name__+'_rldg_100.csv', index_col=0)\n",
        "    p_val = p(np.array(obj_error.loc[i.__name__, :]), np.array(obj_error.loc[opt, :]))\n",
        "    mean_error_value1 = mean_error.at[i.__name__, j.__name__]\n",
        "    mean_error_value2 = mean_error.at[opt, j.__name__]\n",
        "    res = wilcoxx(p_val.pvalue, mean_error_value1, mean_error_value2)\n",
        "    if res==0:\n",
        "      better += 1\n",
        "    elif res == 1:\n",
        "      worse += 1\n",
        "    elif res == 2:\n",
        "      no_sig += 1\n",
        "  versus_cauchyhgs.at[i.__name__,'better'] = better\n",
        "  versus_cauchyhgs.at[i.__name__,'worse'] = worse\n",
        "  versus_cauchyhgs.at[i.__name__,'no significance'] = no_sig"
      ],
      "execution_count": null,
      "outputs": []
    },
    {
      "cell_type": "code",
      "metadata": {
        "id": "dopMvV-8nvDc",
        "colab": {
          "base_uri": "https://localhost:8080/",
          "height": 112
        },
        "outputId": "7629f4e4-4576-43ec-f9b4-7178dfe653e9"
      },
      "source": [
        "versus_levyhgs.to_csv('files/versus_levyhgs_10.csv')\n",
        "versus_levyhgs"
      ],
      "execution_count": null,
      "outputs": [
        {
          "output_type": "execute_result",
          "data": {
            "text/html": [
              "<div>\n",
              "<style scoped>\n",
              "    .dataframe tbody tr th:only-of-type {\n",
              "        vertical-align: middle;\n",
              "    }\n",
              "\n",
              "    .dataframe tbody tr th {\n",
              "        vertical-align: top;\n",
              "    }\n",
              "\n",
              "    .dataframe thead th {\n",
              "        text-align: right;\n",
              "    }\n",
              "</style>\n",
              "<table border=\"1\" class=\"dataframe\">\n",
              "  <thead>\n",
              "    <tr style=\"text-align: right;\">\n",
              "      <th></th>\n",
              "      <th>better</th>\n",
              "      <th>worse</th>\n",
              "      <th>no significance</th>\n",
              "    </tr>\n",
              "  </thead>\n",
              "  <tbody>\n",
              "    <tr>\n",
              "      <th>OriginalHGS</th>\n",
              "      <td>0.0</td>\n",
              "      <td>4.0</td>\n",
              "      <td>24.0</td>\n",
              "    </tr>\n",
              "    <tr>\n",
              "      <th>CauchyHGS</th>\n",
              "      <td>0.0</td>\n",
              "      <td>0.0</td>\n",
              "      <td>28.0</td>\n",
              "    </tr>\n",
              "  </tbody>\n",
              "</table>\n",
              "</div>"
            ],
            "text/plain": [
              "             better  worse  no significance\n",
              "OriginalHGS     0.0    4.0             24.0\n",
              "CauchyHGS       0.0    0.0             28.0"
            ]
          },
          "metadata": {
            "tags": []
          },
          "execution_count": 30
        }
      ]
    },
    {
      "cell_type": "code",
      "metadata": {
        "colab": {
          "base_uri": "https://localhost:8080/",
          "height": 112
        },
        "id": "wuPRv2cyQZhU",
        "outputId": "489ca843-8662-4a34-d1a6-32cda48b7911"
      },
      "source": [
        "versus_cauchyhgs.to_csv('files/versus_cauchyhgs_10.csv')\n",
        "versus_cauchyhgs"
      ],
      "execution_count": null,
      "outputs": [
        {
          "output_type": "execute_result",
          "data": {
            "text/html": [
              "<div>\n",
              "<style scoped>\n",
              "    .dataframe tbody tr th:only-of-type {\n",
              "        vertical-align: middle;\n",
              "    }\n",
              "\n",
              "    .dataframe tbody tr th {\n",
              "        vertical-align: top;\n",
              "    }\n",
              "\n",
              "    .dataframe thead th {\n",
              "        text-align: right;\n",
              "    }\n",
              "</style>\n",
              "<table border=\"1\" class=\"dataframe\">\n",
              "  <thead>\n",
              "    <tr style=\"text-align: right;\">\n",
              "      <th></th>\n",
              "      <th>better</th>\n",
              "      <th>worse</th>\n",
              "      <th>no significance</th>\n",
              "    </tr>\n",
              "  </thead>\n",
              "  <tbody>\n",
              "    <tr>\n",
              "      <th>OriginalHGS</th>\n",
              "      <td>0.0</td>\n",
              "      <td>5.0</td>\n",
              "      <td>23.0</td>\n",
              "    </tr>\n",
              "    <tr>\n",
              "      <th>LevyHGS</th>\n",
              "      <td>0.0</td>\n",
              "      <td>0.0</td>\n",
              "      <td>28.0</td>\n",
              "    </tr>\n",
              "  </tbody>\n",
              "</table>\n",
              "</div>"
            ],
            "text/plain": [
              "             better  worse  no significance\n",
              "OriginalHGS     0.0    5.0             23.0\n",
              "LevyHGS         0.0    0.0             28.0"
            ]
          },
          "metadata": {
            "tags": []
          },
          "execution_count": 39
        }
      ]
    },
    {
      "cell_type": "code",
      "metadata": {
        "colab": {
          "base_uri": "https://localhost:8080/",
          "height": 112
        },
        "id": "q6JYJxkmQ_rZ",
        "outputId": "75167932-17d9-4ea8-ebb7-071029f15ae3"
      },
      "source": [
        "versus_levyhgs.to_csv('files/versus_levyhgs_100.csv')\n",
        "versus_levyhgs"
      ],
      "execution_count": null,
      "outputs": [
        {
          "output_type": "execute_result",
          "data": {
            "text/html": [
              "<div>\n",
              "<style scoped>\n",
              "    .dataframe tbody tr th:only-of-type {\n",
              "        vertical-align: middle;\n",
              "    }\n",
              "\n",
              "    .dataframe tbody tr th {\n",
              "        vertical-align: top;\n",
              "    }\n",
              "\n",
              "    .dataframe thead th {\n",
              "        text-align: right;\n",
              "    }\n",
              "</style>\n",
              "<table border=\"1\" class=\"dataframe\">\n",
              "  <thead>\n",
              "    <tr style=\"text-align: right;\">\n",
              "      <th></th>\n",
              "      <th>better</th>\n",
              "      <th>worse</th>\n",
              "      <th>no significance</th>\n",
              "    </tr>\n",
              "  </thead>\n",
              "  <tbody>\n",
              "    <tr>\n",
              "      <th>OriginalHGS</th>\n",
              "      <td>2.0</td>\n",
              "      <td>12.0</td>\n",
              "      <td>11.0</td>\n",
              "    </tr>\n",
              "    <tr>\n",
              "      <th>CauchyHGS</th>\n",
              "      <td>0.0</td>\n",
              "      <td>2.0</td>\n",
              "      <td>23.0</td>\n",
              "    </tr>\n",
              "  </tbody>\n",
              "</table>\n",
              "</div>"
            ],
            "text/plain": [
              "             better  worse  no significance\n",
              "OriginalHGS     2.0   12.0             11.0\n",
              "CauchyHGS       0.0    2.0             23.0"
            ]
          },
          "metadata": {
            "tags": []
          },
          "execution_count": 45
        }
      ]
    },
    {
      "cell_type": "code",
      "metadata": {
        "colab": {
          "base_uri": "https://localhost:8080/",
          "height": 112
        },
        "id": "KFYNOeWBRTku",
        "outputId": "d9cb387f-3547-4f77-f04a-1e15fbcf3313"
      },
      "source": [
        "versus_cauchyhgs.to_csv('files/versus_cauchyhgs_100.csv')\n",
        "versus_cauchyhgs"
      ],
      "execution_count": null,
      "outputs": [
        {
          "output_type": "execute_result",
          "data": {
            "text/html": [
              "<div>\n",
              "<style scoped>\n",
              "    .dataframe tbody tr th:only-of-type {\n",
              "        vertical-align: middle;\n",
              "    }\n",
              "\n",
              "    .dataframe tbody tr th {\n",
              "        vertical-align: top;\n",
              "    }\n",
              "\n",
              "    .dataframe thead th {\n",
              "        text-align: right;\n",
              "    }\n",
              "</style>\n",
              "<table border=\"1\" class=\"dataframe\">\n",
              "  <thead>\n",
              "    <tr style=\"text-align: right;\">\n",
              "      <th></th>\n",
              "      <th>better</th>\n",
              "      <th>worse</th>\n",
              "      <th>no significance</th>\n",
              "    </tr>\n",
              "  </thead>\n",
              "  <tbody>\n",
              "    <tr>\n",
              "      <th>OriginalHGS</th>\n",
              "      <td>0.0</td>\n",
              "      <td>15.0</td>\n",
              "      <td>10.0</td>\n",
              "    </tr>\n",
              "    <tr>\n",
              "      <th>LevyHGS</th>\n",
              "      <td>2.0</td>\n",
              "      <td>0.0</td>\n",
              "      <td>23.0</td>\n",
              "    </tr>\n",
              "  </tbody>\n",
              "</table>\n",
              "</div>"
            ],
            "text/plain": [
              "             better  worse  no significance\n",
              "OriginalHGS     0.0   15.0             10.0\n",
              "LevyHGS         2.0    0.0             23.0"
            ]
          },
          "metadata": {
            "tags": []
          },
          "execution_count": 49
        }
      ]
    },
    {
      "cell_type": "markdown",
      "metadata": {
        "id": "pnM2wwymdYCC"
      },
      "source": [
        "## Time complexity"
      ]
    },
    {
      "cell_type": "code",
      "metadata": {
        "colab": {
          "base_uri": "https://localhost:8080/"
        },
        "id": "svVQx1sDtQij",
        "outputId": "e1cef01a-8316-4247-9db3-202bb4c475f1"
      },
      "source": [
        "start_time = time.time()\n",
        "for i in range(1,5000+1):\n",
        "  x= 0.55 + i\n",
        "  x=x + x\n",
        "  x=x/2\n",
        "  x=x*x\n",
        "  x=math.sqrt(x)\n",
        "  x=math.log(x)\n",
        "  x=math.exp(x)\n",
        "  x=x/(x+2)\n",
        "t_0 = time.time() - start_time\n",
        "t_0"
      ],
      "execution_count": null,
      "outputs": [
        {
          "output_type": "execute_result",
          "data": {
            "text/plain": [
              "0.0056569576263427734"
            ]
          },
          "metadata": {
            "tags": []
          },
          "execution_count": 50
        }
      ]
    },
    {
      "cell_type": "code",
      "metadata": {
        "colab": {
          "base_uri": "https://localhost:8080/"
        },
        "id": "VeoCJfPlvFB1",
        "outputId": "46b86b72-96de-4c52-83a5-2b48ac7f82e6"
      },
      "source": [
        "start_time = time.time()\n",
        "for i in range(1, 1000+1):\n",
        " F18([i]*10)\n",
        "t_1 = time.time() - start_time\n",
        "t_1"
      ],
      "execution_count": null,
      "outputs": [
        {
          "output_type": "execute_result",
          "data": {
            "text/plain": [
              "10.92038893699646"
            ]
          },
          "metadata": {
            "tags": []
          },
          "execution_count": 51
        }
      ]
    },
    {
      "cell_type": "code",
      "metadata": {
        "id": "fTdWcwf5LMC9"
      },
      "source": [
        "lb1=-100\n",
        "ub1=100\n",
        "problem_size = 30\n",
        "verbose=False\n",
        "epoch=5*problem_size\n",
        "pop_size=20"
      ],
      "execution_count": null,
      "outputs": []
    },
    {
      "cell_type": "code",
      "metadata": {
        "colab": {
          "base_uri": "https://localhost:8080/"
        },
        "id": "1GUTsRtoNA13",
        "outputId": "3c25c7bf-fd90-4b60-fe1e-23846322869a"
      },
      "source": [
        "time_complexity = pd.DataFrame()\n",
        "obj_func = F18\n",
        "for opt in optimizer1:\n",
        "  print(opt.__name__)\n",
        "  a = 0\n",
        "  for i in range(5):\n",
        "    start_time = time.time()\n",
        "    md = opt(obj_func, lb1, ub1, verbose, epoch, pop_size, problem_size=problem_size)\n",
        "    best_pos, best_fit, list_loss, hist = md.train()\n",
        "    a += time.time()-start_time\n",
        "  time_complexity.at[opt.__name__, 'F18'] = ((a/5)-t_1)/t_0\n",
        "time_complexity.to_csv('files/time_complexity_30.csv')"
      ],
      "execution_count": null,
      "outputs": [
        {
          "output_type": "stream",
          "text": [
            "OriginalHGS\n"
          ],
          "name": "stdout"
        },
        {
          "output_type": "stream",
          "text": [
            "/usr/local/lib/python3.7/dist-packages/ipykernel_launcher.py:37: RuntimeWarning: overflow encountered in exp\n"
          ],
          "name": "stderr"
        },
        {
          "output_type": "stream",
          "text": [
            "LevyHGS\n"
          ],
          "name": "stdout"
        }
      ]
    },
    {
      "cell_type": "code",
      "metadata": {
        "id": "qteSQOKTNndP"
      },
      "source": [
        "time_complexity.to_csv('files/time_complexity_30.csv')"
      ],
      "execution_count": null,
      "outputs": []
    },
    {
      "cell_type": "code",
      "metadata": {
        "colab": {
          "base_uri": "https://localhost:8080/",
          "height": 143
        },
        "id": "Q-mVTLIJRvyr",
        "outputId": "c5b94dd6-df0e-49dc-b72e-d9990c0e1ec1"
      },
      "source": [
        "time_complexity = pd.read_csv('files/time_complexity.csv', index_col=0)\n",
        "time_complexity"
      ],
      "execution_count": null,
      "outputs": [
        {
          "output_type": "execute_result",
          "data": {
            "text/html": [
              "<div>\n",
              "<style scoped>\n",
              "    .dataframe tbody tr th:only-of-type {\n",
              "        vertical-align: middle;\n",
              "    }\n",
              "\n",
              "    .dataframe tbody tr th {\n",
              "        vertical-align: top;\n",
              "    }\n",
              "\n",
              "    .dataframe thead th {\n",
              "        text-align: right;\n",
              "    }\n",
              "</style>\n",
              "<table border=\"1\" class=\"dataframe\">\n",
              "  <thead>\n",
              "    <tr style=\"text-align: right;\">\n",
              "      <th></th>\n",
              "      <th>10D</th>\n",
              "      <th>20D</th>\n",
              "      <th>30D</th>\n",
              "      <th>50D</th>\n",
              "      <th>100D</th>\n",
              "    </tr>\n",
              "  </thead>\n",
              "  <tbody>\n",
              "    <tr>\n",
              "      <th>OriginalHGS</th>\n",
              "      <td>160.884305</td>\n",
              "      <td>404.603323</td>\n",
              "      <td>5306.007253</td>\n",
              "      <td>615.148270</td>\n",
              "      <td>3657.139789</td>\n",
              "    </tr>\n",
              "    <tr>\n",
              "      <th>LevyHGS</th>\n",
              "      <td>143.919007</td>\n",
              "      <td>393.860978</td>\n",
              "      <td>5352.594429</td>\n",
              "      <td>602.848463</td>\n",
              "      <td>3558.923320</td>\n",
              "    </tr>\n",
              "    <tr>\n",
              "      <th>CauchyHGS</th>\n",
              "      <td>160.278522</td>\n",
              "      <td>364.762459</td>\n",
              "      <td>5328.173065</td>\n",
              "      <td>690.149724</td>\n",
              "      <td>3571.490297</td>\n",
              "    </tr>\n",
              "  </tbody>\n",
              "</table>\n",
              "</div>"
            ],
            "text/plain": [
              "                    10D         20D          30D         50D         100D\n",
              "OriginalHGS  160.884305  404.603323  5306.007253  615.148270  3657.139789\n",
              "LevyHGS      143.919007  393.860978  5352.594429  602.848463  3558.923320\n",
              "CauchyHGS    160.278522  364.762459  5328.173065  690.149724  3571.490297"
            ]
          },
          "metadata": {
            "tags": []
          },
          "execution_count": 58
        }
      ]
    },
    {
      "cell_type": "markdown",
      "metadata": {
        "id": "RLMxphOKdc2f"
      },
      "source": [
        "## Run length distribution"
      ]
    },
    {
      "cell_type": "code",
      "metadata": {
        "id": "CWO7SLASWfnN"
      },
      "source": [
        "optimizer1 = [OriginalHGS, LevyHGS, CauchyHGS]"
      ],
      "execution_count": null,
      "outputs": []
    },
    {
      "cell_type": "code",
      "metadata": {
        "colab": {
          "background_save": true
        },
        "id": "abK_Wy_SRccU"
      },
      "source": [
        "lb1=-100\n",
        "ub1=100\n",
        "problem_size = 10\n",
        "verbose=False\n",
        "epoch=50\n",
        "pop_size=20"
      ],
      "execution_count": null,
      "outputs": []
    },
    {
      "cell_type": "code",
      "metadata": {
        "colab": {
          "background_save": true
        },
        "id": "h5OV-likVFhb"
      },
      "source": [
        "obj_error = pd.DataFrame()"
      ],
      "execution_count": null,
      "outputs": []
    },
    {
      "cell_type": "code",
      "metadata": {
        "colab": {
          "background_save": true
        },
        "id": "0s-zbMr0N2VD"
      },
      "source": [
        "from operator import add\n",
        "obj_func = F1\n",
        "i=1\n",
        "runs=51\n",
        "plot_points = [1, 2, 3, 4, 5, 10, 15, 20, 25, 30, 35, 40, 45, 50]\n",
        "# plot_points =  [5, 10, 15, 25, 50, 100, 150, 200, 250, 300, 350, 400, 450, 500]\n",
        "for opt in optimizer1:\n",
        "  print(opt.__name__)\n",
        "  error = [0]*250\n",
        "  for k in range(51):\n",
        "    md = opt(obj_func, lb1, ub1, verbose, epoch, pop_size, problem_size=problem_size)\n",
        "    best_pos, best_fit, list_loss, hist = md.train()\n",
        "    list_loss = [x-(i*100) for x in list_loss]\n",
        "    error = list(map(add, error, list_loss))\n",
        "  error = [x/51 for x in error]\n",
        "  for k,e in enumerate(error):\n",
        "    if k+1 in plot_points:\n",
        "      obj_error.at[opt.__name__, k+1] = e\n",
        "obj_error.to_csv('files/f1_rldg.csv')\n",
        "for opt in optimizer1:\n",
        "  plt.plot(plot_points,[math.log(x) for x in obj_error.loc[opt.__name__ , :]],label=opt.__name__)\n",
        "plt.legend()\n",
        "plt.title(obj_func.__name__)\n",
        "plt.xlabel('Evaluations')\n",
        "plt.ylabel('Log(error)')\n",
        "plt.savefig('results/'+obj_func.__name__+'.png')\n",
        "plt.close()"
      ],
      "execution_count": null,
      "outputs": []
    },
    {
      "cell_type": "markdown",
      "metadata": {
        "id": "oAla-NKEyeKR"
      },
      "source": [
        "# Clustering"
      ]
    },
    {
      "cell_type": "code",
      "metadata": {
        "id": "cgvW5XIMQuTp"
      },
      "source": [
        "def evaluate(sol):\n",
        "    global data,k\n",
        "    def calc_distance(X1, X2):\n",
        "        return(sum((X1 - X2)**2))**0.5\n",
        "\n",
        "    def findClosestCentroids(ic):\n",
        "        assigned_centroid = []\n",
        "        for i in data:\n",
        "            distance=[]\n",
        "            for j in ic:\n",
        "                distance.append(calc_distance(i, j))\n",
        "            assigned_centroid.append(np.argmin(distance))\n",
        "        return assigned_centroid\n",
        "    \n",
        "    sol = np.array(sol).reshape(k,-1)\n",
        "    assigned_centroids = findClosestCentroids(sol)\n",
        "    output = 0\n",
        "    for i in range(len(data)):\n",
        "#         print(\"cacl\",calc_distance(data[i],assigned_centroids[i]))\n",
        "#         print(\"calc np\",calc_distance(data[i],assigned_centroids[i]))\n",
        "        output += calc_distance(data[i],sol[assigned_centroids[i]])\n",
        "    return output"
      ],
      "execution_count": null,
      "outputs": []
    },
    {
      "cell_type": "code",
      "metadata": {
        "id": "NF4qcD71nEXN"
      },
      "source": [
        "def calc_distance(X1, X2):\n",
        "        return(sum((X1 - X2)**2))**0.5\n"
      ],
      "execution_count": null,
      "outputs": []
    },
    {
      "cell_type": "code",
      "metadata": {
        "id": "M-UiBHRBuzqz"
      },
      "source": [
        "class K_Means:\n",
        "    def __init__(self, k=2, tol=0.001, max_iter=50):\n",
        "        self.k = k\n",
        "        self.tol = tol\n",
        "        self.max_iter = max_iter\n",
        "\n",
        "    def fit(self,data):\n",
        "        self.hist = []\n",
        "        self.centroids = {}\n",
        "\n",
        "        for i in range(self.k):\n",
        "            self.centroids[i] = data[i]\n",
        "\n",
        "        for i in range(self.max_iter):\n",
        "            self.classifications = {}\n",
        "\n",
        "            for i in range(self.k):\n",
        "                self.classifications[i] = []\n",
        "\n",
        "            for featureset in data:\n",
        "                distances = [np.linalg.norm(featureset-self.centroids[centroid]) for centroid in self.centroids]\n",
        "                classification = distances.index(min(distances))\n",
        "                self.classifications[classification].append(featureset)\n",
        "\n",
        "            prev_centroids = dict(self.centroids)\n",
        "\n",
        "            for classification in self.classifications:\n",
        "                self.centroids[classification] = np.average(self.classifications[classification],axis=0)\n",
        "\n",
        "            optimized = True\n",
        "\n",
        "            for c in self.centroids:\n",
        "                original_centroid = prev_centroids[c]\n",
        "                current_centroid = self.centroids[c]\n",
        "                if np.sum((current_centroid-original_centroid)/original_centroid*100.0) > self.tol:\n",
        "                    # print(np.sum((current_centroid-original_centroid)/original_centroid*100.0))\n",
        "                    optimized = False\n",
        "\n",
        "            res = 0\n",
        "            for i in range(len(model.centroids)):\n",
        "              for j in range(len(model.classifications[i])):\n",
        "                res += calc_distance(model.centroids[i],model.classifications[i][j])\n",
        "            self.hist.append(res)\n",
        "\n",
        "            # if optimized:\n",
        "            #     break\n",
        "\n",
        "    def predict(self,data):\n",
        "        distances = [np.linalg.norm(data-self.centroids[centroid]) for centroid in self.centroids]\n",
        "        classification = distances.index(min(distances))\n",
        "        return classification"
      ],
      "execution_count": null,
      "outputs": []
    },
    {
      "cell_type": "markdown",
      "metadata": {
        "id": "MEO_5Y4J-7Mj"
      },
      "source": [
        "## Iris"
      ]
    },
    {
      "cell_type": "code",
      "metadata": {
        "colab": {
          "base_uri": "https://localhost:8080/",
          "height": 206
        },
        "id": "7Hp6UxZB-OAM",
        "outputId": "1b452722-1ded-4e7f-cfbd-74fea87075d1"
      },
      "source": [
        "dataset = pd.read_csv('IRIS.csv')\n",
        "dataset.head()"
      ],
      "execution_count": null,
      "outputs": [
        {
          "output_type": "execute_result",
          "data": {
            "text/html": [
              "<div>\n",
              "<style scoped>\n",
              "    .dataframe tbody tr th:only-of-type {\n",
              "        vertical-align: middle;\n",
              "    }\n",
              "\n",
              "    .dataframe tbody tr th {\n",
              "        vertical-align: top;\n",
              "    }\n",
              "\n",
              "    .dataframe thead th {\n",
              "        text-align: right;\n",
              "    }\n",
              "</style>\n",
              "<table border=\"1\" class=\"dataframe\">\n",
              "  <thead>\n",
              "    <tr style=\"text-align: right;\">\n",
              "      <th></th>\n",
              "      <th>sepal_length</th>\n",
              "      <th>sepal_width</th>\n",
              "      <th>petal_length</th>\n",
              "      <th>petal_width</th>\n",
              "      <th>species</th>\n",
              "    </tr>\n",
              "  </thead>\n",
              "  <tbody>\n",
              "    <tr>\n",
              "      <th>0</th>\n",
              "      <td>5.1</td>\n",
              "      <td>3.5</td>\n",
              "      <td>1.4</td>\n",
              "      <td>0.2</td>\n",
              "      <td>Iris-setosa</td>\n",
              "    </tr>\n",
              "    <tr>\n",
              "      <th>1</th>\n",
              "      <td>4.9</td>\n",
              "      <td>3.0</td>\n",
              "      <td>1.4</td>\n",
              "      <td>0.2</td>\n",
              "      <td>Iris-setosa</td>\n",
              "    </tr>\n",
              "    <tr>\n",
              "      <th>2</th>\n",
              "      <td>4.7</td>\n",
              "      <td>3.2</td>\n",
              "      <td>1.3</td>\n",
              "      <td>0.2</td>\n",
              "      <td>Iris-setosa</td>\n",
              "    </tr>\n",
              "    <tr>\n",
              "      <th>3</th>\n",
              "      <td>4.6</td>\n",
              "      <td>3.1</td>\n",
              "      <td>1.5</td>\n",
              "      <td>0.2</td>\n",
              "      <td>Iris-setosa</td>\n",
              "    </tr>\n",
              "    <tr>\n",
              "      <th>4</th>\n",
              "      <td>5.0</td>\n",
              "      <td>3.6</td>\n",
              "      <td>1.4</td>\n",
              "      <td>0.2</td>\n",
              "      <td>Iris-setosa</td>\n",
              "    </tr>\n",
              "  </tbody>\n",
              "</table>\n",
              "</div>"
            ],
            "text/plain": [
              "   sepal_length  sepal_width  petal_length  petal_width      species\n",
              "0           5.1          3.5           1.4          0.2  Iris-setosa\n",
              "1           4.9          3.0           1.4          0.2  Iris-setosa\n",
              "2           4.7          3.2           1.3          0.2  Iris-setosa\n",
              "3           4.6          3.1           1.5          0.2  Iris-setosa\n",
              "4           5.0          3.6           1.4          0.2  Iris-setosa"
            ]
          },
          "metadata": {
            "tags": []
          },
          "execution_count": 61
        }
      ]
    },
    {
      "cell_type": "code",
      "metadata": {
        "id": "x7MBfYcarahM",
        "colab": {
          "base_uri": "https://localhost:8080/"
        },
        "outputId": "a193f08e-c6ed-46fa-f41b-653d48f45a2f"
      },
      "source": [
        "X = dataset.iloc[:,0:-1].values\n",
        "y = dataset.iloc[:, -1].values\n",
        "data = X\n",
        "classes = sorted(list(set(y)))\n",
        "y = [classes.index(x) for x in y]\n",
        "print(y)\n",
        "min_ = []\n",
        "max_ = []\n",
        "for i in range(len(data[0])):\n",
        "    d = [x[i] for x in data]\n",
        "    min_.append(min(d))\n",
        "    max_.append(max(d))\n",
        "k = len(set(y))"
      ],
      "execution_count": null,
      "outputs": [
        {
          "output_type": "stream",
          "text": [
            "[0, 0, 0, 0, 0, 0, 0, 0, 0, 0, 0, 0, 0, 0, 0, 0, 0, 0, 0, 0, 0, 0, 0, 0, 0, 0, 0, 0, 0, 0, 0, 0, 0, 0, 0, 0, 0, 0, 0, 0, 0, 0, 0, 0, 0, 0, 0, 0, 0, 0, 1, 1, 1, 1, 1, 1, 1, 1, 1, 1, 1, 1, 1, 1, 1, 1, 1, 1, 1, 1, 1, 1, 1, 1, 1, 1, 1, 1, 1, 1, 1, 1, 1, 1, 1, 1, 1, 1, 1, 1, 1, 1, 1, 1, 1, 1, 1, 1, 1, 1, 2, 2, 2, 2, 2, 2, 2, 2, 2, 2, 2, 2, 2, 2, 2, 2, 2, 2, 2, 2, 2, 2, 2, 2, 2, 2, 2, 2, 2, 2, 2, 2, 2, 2, 2, 2, 2, 2, 2, 2, 2, 2, 2, 2, 2, 2, 2, 2, 2, 2]\n"
          ],
          "name": "stdout"
        }
      ]
    },
    {
      "cell_type": "code",
      "metadata": {
        "colab": {
          "base_uri": "https://localhost:8080/"
        },
        "id": "nuWLKYr_tPd9",
        "outputId": "4232e432-04d8-43de-e18e-58bea24c5aed"
      },
      "source": [
        "dataset_name = 'iris'\n",
        "lb1=min_*k\n",
        "ub1=max_*k\n",
        "verbose=False\n",
        "epoch=400\n",
        "pop_size=50\n",
        "optimizer1 = [OriginalHGS, LevyHGS, CauchyHGS]\n",
        "fit = pd.DataFrame()\n",
        "obj_func = evaluate\n",
        "for opt in optimizer1:\n",
        "  print(opt.__name__)\n",
        "  md = opt(obj_func, lb1, ub1, verbose, epoch, pop_size, problem_size=problem_size)\n",
        "  best_pos, best_fit, list_loss, hist = md.train()\n",
        "  print(\"Fitness value: \", best_fit)\n",
        "  plt.plot(list_loss, label=opt.__name__)\n",
        "plt.legend()\n",
        "plt.title(obj_func.__name__)\n",
        "plt.xlabel('Iterations')\n",
        "plt.ylabel('Fitness value')\n",
        "plt.savefig('results/'+dataset_name+'.png')\n",
        "plt.close()"
      ],
      "execution_count": null,
      "outputs": [
        {
          "output_type": "stream",
          "text": [
            "OriginalHGS\n"
          ],
          "name": "stdout"
        },
        {
          "output_type": "stream",
          "text": [
            "/usr/local/lib/python3.7/dist-packages/ipykernel_launcher.py:37: RuntimeWarning: overflow encountered in exp\n"
          ],
          "name": "stderr"
        },
        {
          "output_type": "stream",
          "text": [
            "Fitness value:  125.95521411880671\n",
            "LevyHGS\n",
            "Fitness value:  98.24732041610554\n",
            "CauchyHGS\n",
            "Fitness value:  106.55131072613969\n"
          ],
          "name": "stdout"
        }
      ]
    },
    {
      "cell_type": "code",
      "metadata": {
        "colab": {
          "base_uri": "https://localhost:8080/",
          "height": 305
        },
        "id": "ps2dsNIFBc-3",
        "outputId": "f0f14f9d-dd18-46ec-fdf6-cf9e7125db13"
      },
      "source": [
        "Image('results/iris.png')"
      ],
      "execution_count": null,
      "outputs": [
        {
          "output_type": "execute_result",
          "data": {
            "image/png": "[encoded data removed]",
            "text/plain": [
              "<IPython.core.display.Image object>"
            ]
          },
          "metadata": {
            "tags": []
          },
          "execution_count": 105
        }
      ]
    },
    {
      "cell_type": "code",
      "metadata": {
        "colab": {
          "base_uri": "https://localhost:8080/"
        },
        "id": "W5-7s448mUvj",
        "outputId": "cee6714a-7fbd-4f19-dc48-899e75c59cba"
      },
      "source": [
        "dataset = pd.read_csv('IRIS.csv')\n",
        "X = dataset.iloc[:,0:-1].values\n",
        "model = K_Means(k=3)\n",
        "model.fit(X)\n",
        "model.hist[-1]"
      ],
      "execution_count": null,
      "outputs": [
        {
          "output_type": "execute_result",
          "data": {
            "text/plain": [
              "97.34621969415682"
            ]
          },
          "metadata": {
            "tags": []
          },
          "execution_count": 89
        }
      ]
    },
    {
      "cell_type": "markdown",
      "metadata": {
        "id": "lAoRsr-t_Oyd"
      },
      "source": [
        "## Blood"
      ]
    },
    {
      "cell_type": "code",
      "metadata": {
        "id": "JJtWzn74Dm3E",
        "colab": {
          "base_uri": "https://localhost:8080/",
          "height": 206
        },
        "outputId": "3d9f5232-bb12-4d4e-b585-06b5773d33a9"
      },
      "source": [
        "dataset = pd.read_csv('Blood.csv')\n",
        "dataset.head()"
      ],
      "execution_count": null,
      "outputs": [
        {
          "output_type": "execute_result",
          "data": {
            "text/html": [
              "<div>\n",
              "<style scoped>\n",
              "    .dataframe tbody tr th:only-of-type {\n",
              "        vertical-align: middle;\n",
              "    }\n",
              "\n",
              "    .dataframe tbody tr th {\n",
              "        vertical-align: top;\n",
              "    }\n",
              "\n",
              "    .dataframe thead th {\n",
              "        text-align: right;\n",
              "    }\n",
              "</style>\n",
              "<table border=\"1\" class=\"dataframe\">\n",
              "  <thead>\n",
              "    <tr style=\"text-align: right;\">\n",
              "      <th></th>\n",
              "      <th>2</th>\n",
              "      <th>50</th>\n",
              "      <th>12500</th>\n",
              "      <th>98</th>\n",
              "      <th>1</th>\n",
              "    </tr>\n",
              "  </thead>\n",
              "  <tbody>\n",
              "    <tr>\n",
              "      <th>0</th>\n",
              "      <td>0</td>\n",
              "      <td>13</td>\n",
              "      <td>3250</td>\n",
              "      <td>28</td>\n",
              "      <td>1</td>\n",
              "    </tr>\n",
              "    <tr>\n",
              "      <th>1</th>\n",
              "      <td>1</td>\n",
              "      <td>16</td>\n",
              "      <td>4000</td>\n",
              "      <td>35</td>\n",
              "      <td>1</td>\n",
              "    </tr>\n",
              "    <tr>\n",
              "      <th>2</th>\n",
              "      <td>2</td>\n",
              "      <td>20</td>\n",
              "      <td>5000</td>\n",
              "      <td>45</td>\n",
              "      <td>1</td>\n",
              "    </tr>\n",
              "    <tr>\n",
              "      <th>3</th>\n",
              "      <td>1</td>\n",
              "      <td>24</td>\n",
              "      <td>6000</td>\n",
              "      <td>77</td>\n",
              "      <td>0</td>\n",
              "    </tr>\n",
              "    <tr>\n",
              "      <th>4</th>\n",
              "      <td>4</td>\n",
              "      <td>4</td>\n",
              "      <td>1000</td>\n",
              "      <td>4</td>\n",
              "      <td>0</td>\n",
              "    </tr>\n",
              "  </tbody>\n",
              "</table>\n",
              "</div>"
            ],
            "text/plain": [
              "   2  50  12500  98  1\n",
              "0  0  13   3250  28  1\n",
              "1  1  16   4000  35  1\n",
              "2  2  20   5000  45  1\n",
              "3  1  24   6000  77  0\n",
              "4  4   4   1000   4  0"
            ]
          },
          "metadata": {
            "tags": []
          },
          "execution_count": 74
        }
      ]
    },
    {
      "cell_type": "code",
      "metadata": {
        "id": "uE1N_kCXDqaM",
        "colab": {
          "base_uri": "https://localhost:8080/"
        },
        "outputId": "97e2df5b-a74e-403c-aa64-601d705c4ec1"
      },
      "source": [
        "X = dataset.iloc[:,0:-1].values\n",
        "y = dataset.iloc[:, -1].values\n",
        "data = X\n",
        "classes = sorted(list(set(y)))\n",
        "y = [classes.index(x) for x in y]\n",
        "print(y)\n",
        "min_ = []\n",
        "max_ = []\n",
        "for i in range(len(data[0])):\n",
        "    d = [x[i] for x in data]\n",
        "    min_.append(min(d))\n",
        "    max_.append(max(d))\n",
        "k = len(set(y))"
      ],
      "execution_count": null,
      "outputs": [
        {
          "output_type": "stream",
          "text": [
            "[1, 1, 1, 0, 0, 1, 0, 1, 1, 0, 0, 1, 0, 1, 1, 1, 1, 1, 1, 1, 0, 1, 1, 0, 0, 0, 1, 1, 0, 0, 1, 1, 1, 0, 1, 1, 1, 1, 1, 1, 0, 1, 0, 1, 1, 0, 0, 0, 0, 0, 1, 0, 0, 1, 1, 1, 1, 0, 0, 0, 1, 0, 1, 1, 0, 1, 0, 0, 0, 0, 0, 1, 0, 1, 1, 1, 0, 0, 0, 1, 0, 0, 0, 1, 0, 0, 0, 0, 1, 1, 0, 0, 0, 0, 0, 0, 1, 1, 1, 1, 1, 0, 0, 0, 0, 0, 0, 0, 0, 1, 0, 0, 1, 0, 0, 1, 0, 0, 1, 1, 1, 1, 1, 0, 0, 1, 0, 1, 1, 0, 0, 0, 0, 0, 0, 0, 0, 0, 0, 0, 0, 0, 0, 1, 1, 0, 0, 1, 0, 1, 0, 0, 1, 0, 0, 0, 0, 0, 0, 0, 0, 0, 1, 1, 1, 0, 0, 0, 0, 0, 0, 0, 0, 0, 0, 1, 1, 1, 0, 1, 0, 0, 0, 0, 0, 0, 0, 0, 1, 0, 0, 0, 0, 0, 1, 1, 0, 0, 0, 0, 0, 1, 0, 0, 0, 0, 0, 0, 0, 0, 0, 0, 0, 0, 1, 0, 0, 0, 0, 0, 1, 1, 0, 1, 1, 0, 0, 0, 0, 0, 1, 0, 0, 0, 0, 0, 0, 0, 0, 1, 0, 1, 1, 0, 0, 0, 0, 0, 0, 0, 0, 1, 1, 0, 0, 0, 0, 0, 0, 0, 1, 0, 1, 0, 1, 0, 0, 0, 0, 0, 0, 0, 0, 0, 0, 0, 0, 0, 0, 0, 1, 0, 0, 0, 0, 0, 1, 1, 1, 1, 0, 0, 0, 0, 0, 0, 0, 0, 0, 0, 0, 0, 0, 0, 1, 0, 0, 0, 0, 0, 0, 0, 0, 0, 0, 0, 0, 1, 0, 0, 1, 0, 1, 0, 0, 0, 0, 1, 0, 0, 0, 1, 1, 0, 1, 0, 0, 1, 0, 0, 0, 0, 0, 0, 0, 0, 0, 0, 0, 0, 0, 0, 0, 0, 0, 0, 0, 0, 0, 0, 0, 0, 0, 0, 1, 0, 0, 0, 1, 1, 0, 0, 0, 0, 1, 0, 0, 0, 0, 0, 0, 0, 0, 0, 0, 0, 0, 0, 0, 0, 0, 0, 0, 0, 0, 1, 0, 0, 1, 0, 0, 0, 0, 0, 0, 0, 0, 0, 0, 0, 0, 0, 0, 0, 0, 0, 0, 0, 0, 0, 0, 0, 0, 0, 0, 0, 0, 0, 0, 0, 0, 1, 0, 0, 0, 0, 0, 0, 0, 0, 0, 0, 0, 0, 0, 0, 0, 0, 0, 0, 0, 0, 0, 0, 0, 0, 0, 0, 0, 0, 0, 1, 0, 0, 0, 0, 0, 1, 0, 0, 0, 0, 0, 0, 1, 0, 0, 0, 0, 0, 0, 0, 0, 0, 0, 0, 0, 0, 0, 0, 0, 0, 0, 0, 0, 0, 0, 0, 0, 1, 1, 1, 0, 1, 1, 1, 0, 1, 1, 1, 0, 0, 0, 1, 0, 1, 1, 1, 1, 1, 1, 1, 1, 0, 0, 1, 0, 0, 1, 1, 1, 0, 0, 0, 1, 1, 1, 1, 1, 1, 0, 1, 1, 0, 1, 0, 0, 1, 1, 0, 1, 1, 0, 0, 0, 0, 0, 0, 0, 1, 0, 1, 0, 0, 0, 0, 0, 1, 0, 0, 0, 1, 0, 1, 1, 1, 0, 0, 0, 0, 1, 0, 0, 0, 0, 1, 0, 0, 0, 0, 0, 0, 1, 0, 0, 1, 0, 0, 0, 0, 0, 0, 0, 0, 0, 0, 0, 0, 0, 0, 0, 1, 0, 0, 0, 0, 0, 1, 0, 0, 0, 1, 0, 1, 0, 0, 0, 0, 0, 0, 0, 0, 0, 0, 0, 0, 0, 0, 1, 1, 0, 0, 0, 1, 0, 0, 0, 0, 0, 0, 0, 0, 0, 0, 0, 0, 0, 0, 0, 0, 0, 0, 0, 0, 0, 0, 1, 0, 1, 0, 0, 0, 0, 0, 0, 0, 0, 0, 0, 1, 0, 0, 0, 0, 0, 0, 0, 0, 0, 0, 0, 0, 0, 0, 1, 0, 0, 0, 0, 0, 0, 0, 0, 0, 0, 0, 0, 1, 0, 0, 0, 1, 0, 0, 0, 0, 0, 0, 0, 0, 0, 0, 0, 0, 0, 0, 0, 0, 0, 0, 0, 1, 0, 0, 0, 0, 0, 0, 0, 0, 0, 0, 0, 0, 0, 0, 0]\n"
          ],
          "name": "stdout"
        }
      ]
    },
    {
      "cell_type": "code",
      "metadata": {
        "id": "jrWMjPt5Ds9d",
        "colab": {
          "base_uri": "https://localhost:8080/"
        },
        "outputId": "1ef086e0-d8a2-4bc0-e38d-a3bbb92ebe9e"
      },
      "source": [
        "dataset_name = 'Blood'\n",
        "lb1=min_*k\n",
        "ub1=max_*k\n",
        "verbose=False\n",
        "epoch=200\n",
        "pop_size=50\n",
        "optimizer1 = [OriginalHGS, LevyHGS, CauchyHGS]\n",
        "fit = pd.DataFrame()\n",
        "obj_func = evaluate\n",
        "for opt in optimizer1:\n",
        "  print(opt.__name__)\n",
        "  md = opt(obj_func, lb1, ub1, verbose, epoch, pop_size, problem_size=problem_size)\n",
        "  best_pos, best_fit, list_loss, hist = md.train()\n",
        "  print(\"Fitness value: \", best_fit)\n",
        "  plt.plot(list_loss, label=opt.__name__)\n",
        "plt.legend()\n",
        "plt.title(obj_func.__name__)\n",
        "plt.xlabel('Iterations')\n",
        "plt.ylabel('Fitness value')\n",
        "plt.savefig('results/'+dataset_name+'.png')\n",
        "plt.close()"
      ],
      "execution_count": null,
      "outputs": [
        {
          "output_type": "stream",
          "text": [
            "OriginalHGS\n"
          ],
          "name": "stdout"
        },
        {
          "output_type": "stream",
          "text": [
            "/usr/local/lib/python3.7/dist-packages/ipykernel_launcher.py:37: RuntimeWarning: overflow encountered in exp\n"
          ],
          "name": "stderr"
        },
        {
          "output_type": "stream",
          "text": [
            "Fitness value:  399433.19277042133\n",
            "LevyHGS\n",
            "Fitness value:  399428.6607321986\n",
            "CauchyHGS\n",
            "Fitness value:  397883.7632455839\n"
          ],
          "name": "stdout"
        }
      ]
    },
    {
      "cell_type": "code",
      "metadata": {
        "colab": {
          "base_uri": "https://localhost:8080/",
          "height": 305
        },
        "id": "NcdRrY_8B2Fu",
        "outputId": "23cc3b4d-d953-4714-9415-ced44b7c5926"
      },
      "source": [
        "Image('results/Blood.png')"
      ],
      "execution_count": null,
      "outputs": [
        {
          "output_type": "execute_result",
          "data": {
            "image/png": "[encoded data removed]",
            "text/plain": [
              "<IPython.core.display.Image object>"
            ]
          },
          "metadata": {
            "tags": []
          },
          "execution_count": 108
        }
      ]
    },
    {
      "cell_type": "code",
      "metadata": {
        "colab": {
          "base_uri": "https://localhost:8080/"
        },
        "id": "yJ6UgFbdndtd",
        "outputId": "ed2465c2-f3b0-4741-b41b-abc7b0326752"
      },
      "source": [
        "dataset = pd.read_csv('Blood.csv')\n",
        "X = dataset.iloc[:,0:-1].values\n",
        "model = K_Means(k=2)\n",
        "model.fit(X)\n",
        "model.hist[-1]"
      ],
      "execution_count": null,
      "outputs": [
        {
          "output_type": "stream",
          "text": [
            "/usr/local/lib/python3.7/dist-packages/ipykernel_launcher.py:35: RuntimeWarning: divide by zero encountered in true_divide\n"
          ],
          "name": "stderr"
        },
        {
          "output_type": "execute_result",
          "data": {
            "text/plain": [
              "458108.4367984831"
            ]
          },
          "metadata": {
            "tags": []
          },
          "execution_count": 96
        }
      ]
    },
    {
      "cell_type": "markdown",
      "metadata": {
        "id": "onbFDjRN_Tmo"
      },
      "source": [
        "## Banknote"
      ]
    },
    {
      "cell_type": "code",
      "metadata": {
        "id": "F200d7jBF0fK",
        "colab": {
          "base_uri": "https://localhost:8080/",
          "height": 206
        },
        "outputId": "836b18fd-0238-46cc-8d58-7969e4ad6eaf"
      },
      "source": [
        "dataset = pd.read_csv('banknote.csv')\n",
        "dataset.head()"
      ],
      "execution_count": null,
      "outputs": [
        {
          "output_type": "execute_result",
          "data": {
            "text/html": [
              "<div>\n",
              "<style scoped>\n",
              "    .dataframe tbody tr th:only-of-type {\n",
              "        vertical-align: middle;\n",
              "    }\n",
              "\n",
              "    .dataframe tbody tr th {\n",
              "        vertical-align: top;\n",
              "    }\n",
              "\n",
              "    .dataframe thead th {\n",
              "        text-align: right;\n",
              "    }\n",
              "</style>\n",
              "<table border=\"1\" class=\"dataframe\">\n",
              "  <thead>\n",
              "    <tr style=\"text-align: right;\">\n",
              "      <th></th>\n",
              "      <th>3.6216</th>\n",
              "      <th>8.6661</th>\n",
              "      <th>-2.8073</th>\n",
              "      <th>-0.44699</th>\n",
              "      <th>0</th>\n",
              "    </tr>\n",
              "  </thead>\n",
              "  <tbody>\n",
              "    <tr>\n",
              "      <th>0</th>\n",
              "      <td>4.54590</td>\n",
              "      <td>8.1674</td>\n",
              "      <td>-2.4586</td>\n",
              "      <td>-1.46210</td>\n",
              "      <td>0</td>\n",
              "    </tr>\n",
              "    <tr>\n",
              "      <th>1</th>\n",
              "      <td>3.86600</td>\n",
              "      <td>-2.6383</td>\n",
              "      <td>1.9242</td>\n",
              "      <td>0.10645</td>\n",
              "      <td>0</td>\n",
              "    </tr>\n",
              "    <tr>\n",
              "      <th>2</th>\n",
              "      <td>3.45660</td>\n",
              "      <td>9.5228</td>\n",
              "      <td>-4.0112</td>\n",
              "      <td>-3.59440</td>\n",
              "      <td>0</td>\n",
              "    </tr>\n",
              "    <tr>\n",
              "      <th>3</th>\n",
              "      <td>0.32924</td>\n",
              "      <td>-4.4552</td>\n",
              "      <td>4.5718</td>\n",
              "      <td>-0.98880</td>\n",
              "      <td>0</td>\n",
              "    </tr>\n",
              "    <tr>\n",
              "      <th>4</th>\n",
              "      <td>4.36840</td>\n",
              "      <td>9.6718</td>\n",
              "      <td>-3.9606</td>\n",
              "      <td>-3.16250</td>\n",
              "      <td>0</td>\n",
              "    </tr>\n",
              "  </tbody>\n",
              "</table>\n",
              "</div>"
            ],
            "text/plain": [
              "    3.6216  8.6661  -2.8073  -0.44699  0\n",
              "0  4.54590  8.1674  -2.4586  -1.46210  0\n",
              "1  3.86600 -2.6383   1.9242   0.10645  0\n",
              "2  3.45660  9.5228  -4.0112  -3.59440  0\n",
              "3  0.32924 -4.4552   4.5718  -0.98880  0\n",
              "4  4.36840  9.6718  -3.9606  -3.16250  0"
            ]
          },
          "metadata": {
            "tags": []
          },
          "execution_count": 77
        }
      ]
    },
    {
      "cell_type": "code",
      "metadata": {
        "id": "iJZ0WLinF3SI",
        "colab": {
          "base_uri": "https://localhost:8080/"
        },
        "outputId": "24b5dd18-5220-44d2-c4e3-5b2276bcb42d"
      },
      "source": [
        "X = dataset.iloc[:,0:-1].values\n",
        "y = dataset.iloc[:, -1].values\n",
        "data = X\n",
        "classes = sorted(list(set(y)))\n",
        "y = [classes.index(x) for x in y]\n",
        "print(y)\n",
        "min_ = []\n",
        "max_ = []\n",
        "for i in range(len(data[0])):\n",
        "    d = [x[i] for x in data]\n",
        "    min_.append(min(d))\n",
        "    max_.append(max(d))\n",
        "k = len(set(y))"
      ],
      "execution_count": null,
      "outputs": [
        {
          "output_type": "stream",
          "text": [
            "[0, 0, 0, 0, 0, 0, 0, 0, 0, 0, 0, 0, 0, 0, 0, 0, 0, 0, 0, 0, 0, 0, 0, 0, 0, 0, 0, 0, 0, 0, 0, 0, 0, 0, 0, 0, 0, 0, 0, 0, 0, 0, 0, 0, 0, 0, 0, 0, 0, 0, 0, 0, 0, 0, 0, 0, 0, 0, 0, 0, 0, 0, 0, 0, 0, 0, 0, 0, 0, 0, 0, 0, 0, 0, 0, 0, 0, 0, 0, 0, 0, 0, 0, 0, 0, 0, 0, 0, 0, 0, 0, 0, 0, 0, 0, 0, 0, 0, 0, 0, 0, 0, 0, 0, 0, 0, 0, 0, 0, 0, 0, 0, 0, 0, 0, 0, 0, 0, 0, 0, 0, 0, 0, 0, 0, 0, 0, 0, 0, 0, 0, 0, 0, 0, 0, 0, 0, 0, 0, 0, 0, 0, 0, 0, 0, 0, 0, 0, 0, 0, 0, 0, 0, 0, 0, 0, 0, 0, 0, 0, 0, 0, 0, 0, 0, 0, 0, 0, 0, 0, 0, 0, 0, 0, 0, 0, 0, 0, 0, 0, 0, 0, 0, 0, 0, 0, 0, 0, 0, 0, 0, 0, 0, 0, 0, 0, 0, 0, 0, 0, 0, 0, 0, 0, 0, 0, 0, 0, 0, 0, 0, 0, 0, 0, 0, 0, 0, 0, 0, 0, 0, 0, 0, 0, 0, 0, 0, 0, 0, 0, 0, 0, 0, 0, 0, 0, 0, 0, 0, 0, 0, 0, 0, 0, 0, 0, 0, 0, 0, 0, 0, 0, 0, 0, 0, 0, 0, 0, 0, 0, 0, 0, 0, 0, 0, 0, 0, 0, 0, 0, 0, 0, 0, 0, 0, 0, 0, 0, 0, 0, 0, 0, 0, 0, 0, 0, 0, 0, 0, 0, 0, 0, 0, 0, 0, 0, 0, 0, 0, 0, 0, 0, 0, 0, 0, 0, 0, 0, 0, 0, 0, 0, 0, 0, 0, 0, 0, 0, 0, 0, 0, 0, 0, 0, 0, 0, 0, 0, 0, 0, 0, 0, 0, 0, 0, 0, 0, 0, 0, 0, 0, 0, 0, 0, 0, 0, 0, 0, 0, 0, 0, 0, 0, 0, 0, 0, 0, 0, 0, 0, 0, 0, 0, 0, 0, 0, 0, 0, 0, 0, 0, 0, 0, 0, 0, 0, 0, 0, 0, 0, 0, 0, 0, 0, 0, 0, 0, 0, 0, 0, 0, 0, 0, 0, 0, 0, 0, 0, 0, 0, 0, 0, 0, 0, 0, 0, 0, 0, 0, 0, 0, 0, 0, 0, 0, 0, 0, 0, 0, 0, 0, 0, 0, 0, 0, 0, 0, 0, 0, 0, 0, 0, 0, 0, 0, 0, 0, 0, 0, 0, 0, 0, 0, 0, 0, 0, 0, 0, 0, 0, 0, 0, 0, 0, 0, 0, 0, 0, 0, 0, 0, 0, 0, 0, 0, 0, 0, 0, 0, 0, 0, 0, 0, 0, 0, 0, 0, 0, 0, 0, 0, 0, 0, 0, 0, 0, 0, 0, 0, 0, 0, 0, 0, 0, 0, 0, 0, 0, 0, 0, 0, 0, 0, 0, 0, 0, 0, 0, 0, 0, 0, 0, 0, 0, 0, 0, 0, 0, 0, 0, 0, 0, 0, 0, 0, 0, 0, 0, 0, 0, 0, 0, 0, 0, 0, 0, 0, 0, 0, 0, 0, 0, 0, 0, 0, 0, 0, 0, 0, 0, 0, 0, 0, 0, 0, 0, 0, 0, 0, 0, 0, 0, 0, 0, 0, 0, 0, 0, 0, 0, 0, 0, 0, 0, 0, 0, 0, 0, 0, 0, 0, 0, 0, 0, 0, 0, 0, 0, 0, 0, 0, 0, 0, 0, 0, 0, 0, 0, 0, 0, 0, 0, 0, 0, 0, 0, 0, 0, 0, 0, 0, 0, 0, 0, 0, 0, 0, 0, 0, 0, 0, 0, 0, 0, 0, 0, 0, 0, 0, 0, 0, 0, 0, 0, 0, 0, 0, 0, 0, 0, 0, 0, 0, 0, 0, 0, 0, 0, 0, 0, 0, 0, 0, 0, 0, 0, 0, 0, 0, 0, 0, 0, 0, 0, 0, 0, 0, 0, 0, 0, 0, 0, 0, 0, 0, 0, 0, 0, 0, 0, 0, 0, 0, 0, 0, 0, 0, 0, 0, 0, 0, 0, 0, 0, 0, 0, 0, 0, 0, 0, 0, 0, 0, 0, 0, 0, 0, 0, 0, 0, 0, 0, 0, 0, 0, 0, 0, 0, 0, 0, 0, 0, 0, 0, 0, 0, 0, 0, 0, 0, 0, 0, 0, 0, 0, 0, 0, 0, 0, 0, 0, 0, 0, 0, 0, 0, 0, 0, 0, 0, 0, 0, 0, 0, 0, 0, 0, 0, 0, 0, 0, 1, 1, 1, 1, 1, 1, 1, 1, 1, 1, 1, 1, 1, 1, 1, 1, 1, 1, 1, 1, 1, 1, 1, 1, 1, 1, 1, 1, 1, 1, 1, 1, 1, 1, 1, 1, 1, 1, 1, 1, 1, 1, 1, 1, 1, 1, 1, 1, 1, 1, 1, 1, 1, 1, 1, 1, 1, 1, 1, 1, 1, 1, 1, 1, 1, 1, 1, 1, 1, 1, 1, 1, 1, 1, 1, 1, 1, 1, 1, 1, 1, 1, 1, 1, 1, 1, 1, 1, 1, 1, 1, 1, 1, 1, 1, 1, 1, 1, 1, 1, 1, 1, 1, 1, 1, 1, 1, 1, 1, 1, 1, 1, 1, 1, 1, 1, 1, 1, 1, 1, 1, 1, 1, 1, 1, 1, 1, 1, 1, 1, 1, 1, 1, 1, 1, 1, 1, 1, 1, 1, 1, 1, 1, 1, 1, 1, 1, 1, 1, 1, 1, 1, 1, 1, 1, 1, 1, 1, 1, 1, 1, 1, 1, 1, 1, 1, 1, 1, 1, 1, 1, 1, 1, 1, 1, 1, 1, 1, 1, 1, 1, 1, 1, 1, 1, 1, 1, 1, 1, 1, 1, 1, 1, 1, 1, 1, 1, 1, 1, 1, 1, 1, 1, 1, 1, 1, 1, 1, 1, 1, 1, 1, 1, 1, 1, 1, 1, 1, 1, 1, 1, 1, 1, 1, 1, 1, 1, 1, 1, 1, 1, 1, 1, 1, 1, 1, 1, 1, 1, 1, 1, 1, 1, 1, 1, 1, 1, 1, 1, 1, 1, 1, 1, 1, 1, 1, 1, 1, 1, 1, 1, 1, 1, 1, 1, 1, 1, 1, 1, 1, 1, 1, 1, 1, 1, 1, 1, 1, 1, 1, 1, 1, 1, 1, 1, 1, 1, 1, 1, 1, 1, 1, 1, 1, 1, 1, 1, 1, 1, 1, 1, 1, 1, 1, 1, 1, 1, 1, 1, 1, 1, 1, 1, 1, 1, 1, 1, 1, 1, 1, 1, 1, 1, 1, 1, 1, 1, 1, 1, 1, 1, 1, 1, 1, 1, 1, 1, 1, 1, 1, 1, 1, 1, 1, 1, 1, 1, 1, 1, 1, 1, 1, 1, 1, 1, 1, 1, 1, 1, 1, 1, 1, 1, 1, 1, 1, 1, 1, 1, 1, 1, 1, 1, 1, 1, 1, 1, 1, 1, 1, 1, 1, 1, 1, 1, 1, 1, 1, 1, 1, 1, 1, 1, 1, 1, 1, 1, 1, 1, 1, 1, 1, 1, 1, 1, 1, 1, 1, 1, 1, 1, 1, 1, 1, 1, 1, 1, 1, 1, 1, 1, 1, 1, 1, 1, 1, 1, 1, 1, 1, 1, 1, 1, 1, 1, 1, 1, 1, 1, 1, 1, 1, 1, 1, 1, 1, 1, 1, 1, 1, 1, 1, 1, 1, 1, 1, 1, 1, 1, 1, 1, 1, 1, 1, 1, 1, 1, 1, 1, 1, 1, 1, 1, 1, 1, 1, 1, 1, 1, 1, 1, 1, 1, 1, 1, 1, 1, 1, 1, 1, 1, 1, 1, 1, 1, 1, 1, 1, 1, 1, 1, 1, 1, 1, 1, 1, 1, 1, 1, 1, 1, 1, 1, 1, 1, 1, 1, 1, 1, 1, 1, 1, 1, 1, 1, 1, 1, 1, 1, 1, 1, 1, 1, 1, 1, 1, 1, 1, 1, 1, 1, 1, 1, 1, 1, 1, 1, 1, 1, 1, 1, 1, 1, 1, 1, 1, 1, 1, 1, 1, 1, 1, 1, 1, 1, 1, 1, 1, 1, 1, 1, 1, 1, 1, 1, 1, 1, 1, 1, 1, 1, 1, 1, 1, 1, 1, 1, 1, 1, 1, 1, 1, 1, 1, 1, 1, 1, 1, 1, 1, 1, 1, 1, 1, 1, 1, 1, 1, 1, 1]\n"
          ],
          "name": "stdout"
        }
      ]
    },
    {
      "cell_type": "code",
      "metadata": {
        "id": "XB5bfraiF5du",
        "colab": {
          "base_uri": "https://localhost:8080/"
        },
        "outputId": "781598b0-182a-40eb-8a22-f76c4b956cab"
      },
      "source": [
        "dataset_name = 'banknote'\n",
        "lb1=min_*k\n",
        "ub1=max_*k\n",
        "verbose=False\n",
        "epoch=200\n",
        "pop_size=50\n",
        "optimizer1 = [OriginalHGS, LevyHGS, CauchyHGS]\n",
        "fit = pd.DataFrame()\n",
        "obj_func = evaluate\n",
        "for opt in optimizer1:\n",
        "  print(opt.__name__)\n",
        "  md = opt(obj_func, lb1, ub1, verbose, epoch, pop_size, problem_size=problem_size)\n",
        "  best_pos, best_fit, list_loss, hist = md.train()\n",
        "  print(\"Fitness value: \", best_fit)\n",
        "  plt.plot(list_loss, label=opt.__name__)\n",
        "plt.legend()\n",
        "plt.title(obj_func.__name__)\n",
        "plt.xlabel('Iterations')\n",
        "plt.ylabel('Fitness value')\n",
        "plt.savefig('results/'+dataset_name+'.png')\n",
        "plt.close()"
      ],
      "execution_count": null,
      "outputs": [
        {
          "output_type": "stream",
          "text": [
            "OriginalHGS\n"
          ],
          "name": "stdout"
        },
        {
          "output_type": "stream",
          "text": [
            "/usr/local/lib/python3.7/dist-packages/ipykernel_launcher.py:37: RuntimeWarning: overflow encountered in exp\n"
          ],
          "name": "stderr"
        },
        {
          "output_type": "stream",
          "text": [
            "Fitness value:  7240.175432379056\n",
            "LevyHGS\n",
            "Fitness value:  7217.754689155968\n",
            "CauchyHGS\n",
            "Fitness value:  7251.337273902753\n"
          ],
          "name": "stdout"
        }
      ]
    },
    {
      "cell_type": "code",
      "metadata": {
        "colab": {
          "base_uri": "https://localhost:8080/",
          "height": 305
        },
        "id": "klqwOFWKB6xE",
        "outputId": "92a6c66e-bf99-4265-c845-11cbec04b5f2"
      },
      "source": [
        "Image('results/banknote.png')"
      ],
      "execution_count": null,
      "outputs": [
        {
          "output_type": "execute_result",
          "data": {
            "image/png": "[encoded data removed]",
            "text/plain": [
              "<IPython.core.display.Image object>"
            ]
          },
          "metadata": {
            "tags": []
          },
          "execution_count": 109
        }
      ]
    },
    {
      "cell_type": "code",
      "metadata": {
        "colab": {
          "base_uri": "https://localhost:8080/"
        },
        "id": "JFTuMxNznhr9",
        "outputId": "30afe965-b12e-47f8-98c7-c7782621564b"
      },
      "source": [
        "dataset = pd.read_csv('banknote.csv')\n",
        "X = dataset.iloc[:,0:-1].values\n",
        "model = K_Means(k=2)\n",
        "model.fit(X)\n",
        "model.hist[-1]"
      ],
      "execution_count": null,
      "outputs": [
        {
          "output_type": "execute_result",
          "data": {
            "text/plain": [
              "7241.516211410195"
            ]
          },
          "metadata": {
            "tags": []
          },
          "execution_count": 98
        }
      ]
    },
    {
      "cell_type": "code",
      "metadata": {
        "id": "w9s2QTx_pU8E"
      },
      "source": [
        ""
      ],
      "execution_count": null,
      "outputs": []
    },
    {
      "cell_type": "markdown",
      "metadata": {
        "id": "xU1lSnCP-_44"
      },
      "source": [
        "## Wine"
      ]
    },
    {
      "cell_type": "code",
      "metadata": {
        "colab": {
          "base_uri": "https://localhost:8080/",
          "height": 206
        },
        "id": "vQ0yv0HIrU6t",
        "outputId": "cf6ab3f7-8098-499d-fa44-0ebaf7c9a0b1"
      },
      "source": [
        "dataset = pd.read_csv('wine.csv')\n",
        "dataset.head()"
      ],
      "execution_count": null,
      "outputs": [
        {
          "output_type": "execute_result",
          "data": {
            "text/html": [
              "<div>\n",
              "<style scoped>\n",
              "    .dataframe tbody tr th:only-of-type {\n",
              "        vertical-align: middle;\n",
              "    }\n",
              "\n",
              "    .dataframe tbody tr th {\n",
              "        vertical-align: top;\n",
              "    }\n",
              "\n",
              "    .dataframe thead th {\n",
              "        text-align: right;\n",
              "    }\n",
              "</style>\n",
              "<table border=\"1\" class=\"dataframe\">\n",
              "  <thead>\n",
              "    <tr style=\"text-align: right;\">\n",
              "      <th></th>\n",
              "      <th>14.23</th>\n",
              "      <th>1.71</th>\n",
              "      <th>2.43</th>\n",
              "      <th>15.6</th>\n",
              "      <th>127</th>\n",
              "      <th>2.8</th>\n",
              "      <th>3.06</th>\n",
              "      <th>0.28</th>\n",
              "      <th>2.29</th>\n",
              "      <th>5.64</th>\n",
              "      <th>1.04</th>\n",
              "      <th>3.92</th>\n",
              "      <th>1065</th>\n",
              "      <th>1</th>\n",
              "    </tr>\n",
              "  </thead>\n",
              "  <tbody>\n",
              "    <tr>\n",
              "      <th>0</th>\n",
              "      <td>13.20</td>\n",
              "      <td>1.78</td>\n",
              "      <td>2.14</td>\n",
              "      <td>11.2</td>\n",
              "      <td>100</td>\n",
              "      <td>2.65</td>\n",
              "      <td>2.76</td>\n",
              "      <td>0.26</td>\n",
              "      <td>1.28</td>\n",
              "      <td>4.38</td>\n",
              "      <td>1.05</td>\n",
              "      <td>3.40</td>\n",
              "      <td>1050</td>\n",
              "      <td>1</td>\n",
              "    </tr>\n",
              "    <tr>\n",
              "      <th>1</th>\n",
              "      <td>13.16</td>\n",
              "      <td>2.36</td>\n",
              "      <td>2.67</td>\n",
              "      <td>18.6</td>\n",
              "      <td>101</td>\n",
              "      <td>2.80</td>\n",
              "      <td>3.24</td>\n",
              "      <td>0.30</td>\n",
              "      <td>2.81</td>\n",
              "      <td>5.68</td>\n",
              "      <td>1.03</td>\n",
              "      <td>3.17</td>\n",
              "      <td>1185</td>\n",
              "      <td>1</td>\n",
              "    </tr>\n",
              "    <tr>\n",
              "      <th>2</th>\n",
              "      <td>14.37</td>\n",
              "      <td>1.95</td>\n",
              "      <td>2.50</td>\n",
              "      <td>16.8</td>\n",
              "      <td>113</td>\n",
              "      <td>3.85</td>\n",
              "      <td>3.49</td>\n",
              "      <td>0.24</td>\n",
              "      <td>2.18</td>\n",
              "      <td>7.80</td>\n",
              "      <td>0.86</td>\n",
              "      <td>3.45</td>\n",
              "      <td>1480</td>\n",
              "      <td>1</td>\n",
              "    </tr>\n",
              "    <tr>\n",
              "      <th>3</th>\n",
              "      <td>13.24</td>\n",
              "      <td>2.59</td>\n",
              "      <td>2.87</td>\n",
              "      <td>21.0</td>\n",
              "      <td>118</td>\n",
              "      <td>2.80</td>\n",
              "      <td>2.69</td>\n",
              "      <td>0.39</td>\n",
              "      <td>1.82</td>\n",
              "      <td>4.32</td>\n",
              "      <td>1.04</td>\n",
              "      <td>2.93</td>\n",
              "      <td>735</td>\n",
              "      <td>1</td>\n",
              "    </tr>\n",
              "    <tr>\n",
              "      <th>4</th>\n",
              "      <td>14.20</td>\n",
              "      <td>1.76</td>\n",
              "      <td>2.45</td>\n",
              "      <td>15.2</td>\n",
              "      <td>112</td>\n",
              "      <td>3.27</td>\n",
              "      <td>3.39</td>\n",
              "      <td>0.34</td>\n",
              "      <td>1.97</td>\n",
              "      <td>6.75</td>\n",
              "      <td>1.05</td>\n",
              "      <td>2.85</td>\n",
              "      <td>1450</td>\n",
              "      <td>1</td>\n",
              "    </tr>\n",
              "  </tbody>\n",
              "</table>\n",
              "</div>"
            ],
            "text/plain": [
              "   14.23  1.71  2.43  15.6  127   2.8  ...  2.29  5.64  1.04  3.92  1065  1\n",
              "0  13.20  1.78  2.14  11.2  100  2.65  ...  1.28  4.38  1.05  3.40  1050  1\n",
              "1  13.16  2.36  2.67  18.6  101  2.80  ...  2.81  5.68  1.03  3.17  1185  1\n",
              "2  14.37  1.95  2.50  16.8  113  3.85  ...  2.18  7.80  0.86  3.45  1480  1\n",
              "3  13.24  2.59  2.87  21.0  118  2.80  ...  1.82  4.32  1.04  2.93   735  1\n",
              "4  14.20  1.76  2.45  15.2  112  3.27  ...  1.97  6.75  1.05  2.85  1450  1\n",
              "\n",
              "[5 rows x 14 columns]"
            ]
          },
          "metadata": {
            "tags": []
          },
          "execution_count": 67
        }
      ]
    },
    {
      "cell_type": "code",
      "metadata": {
        "id": "C4KcQ0K0-eoD",
        "colab": {
          "base_uri": "https://localhost:8080/"
        },
        "outputId": "fb1c7013-a0ff-412d-bb54-7871ab9e24e5"
      },
      "source": [
        "X = dataset.iloc[:,0:-1].values\n",
        "y = dataset.iloc[:, -1].values\n",
        "data = X\n",
        "classes = sorted(list(set(y)))\n",
        "y = [classes.index(x) for x in y]\n",
        "print(y)\n",
        "min_ = []\n",
        "max_ = []\n",
        "for i in range(len(data[0])):\n",
        "    d = [x[i] for x in data]\n",
        "    min_.append(min(d))\n",
        "    max_.append(max(d))\n",
        "k = len(set(y))"
      ],
      "execution_count": null,
      "outputs": [
        {
          "output_type": "stream",
          "text": [
            "[1, 1, 1, 1, 1, 1, 1, 1, 1, 1, 1, 1, 1, 1, 1, 1, 1, 1, 1, 1, 1, 1, 1, 1, 1, 1, 1, 1, 1, 1, 1, 1, 1, 1, 1, 1, 1, 1, 1, 1, 1, 1, 1, 1, 1, 1, 1, 1, 1, 1, 1, 1, 1, 1, 1, 1, 1, 1, 2, 2, 2, 2, 2, 2, 2, 2, 2, 2, 2, 2, 2, 2, 2, 2, 2, 2, 2, 2, 2, 2, 2, 2, 2, 2, 2, 2, 2, 2, 2, 2, 2, 2, 2, 2, 2, 2, 2, 2, 2, 2, 2, 2, 2, 2, 2, 2, 2, 2, 2, 2, 2, 2, 2, 2, 2, 2, 2, 2, 2, 2, 2, 2, 2, 2, 2, 2, 2, 2, 2, 0, 0, 0, 0, 0, 0, 0, 0, 0, 0, 0, 0, 0, 0, 0, 0, 0, 0, 0, 0, 0, 0, 0, 0, 0, 0, 0, 0, 0, 0, 0, 0, 0, 0, 0, 0, 0, 0, 0, 0, 0, 0, 0, 0, 0, 0, 0, 0]\n"
          ],
          "name": "stdout"
        }
      ]
    },
    {
      "cell_type": "code",
      "metadata": {
        "colab": {
          "base_uri": "https://localhost:8080/"
        },
        "id": "VN6_rC7TAP9z",
        "outputId": "656632c3-ce4a-426c-ef67-542ed2051a2b"
      },
      "source": [
        "dataset_name = 'wine'\n",
        "lb1=min_*k\n",
        "ub1=max_*k\n",
        "verbose=False\n",
        "epoch=200\n",
        "pop_size=50\n",
        "optimizer1 = [OriginalHGS, LevyHGS, CauchyHGS]\n",
        "fit = pd.DataFrame()\n",
        "obj_func = evaluate\n",
        "for opt in optimizer1:\n",
        "  print(opt.__name__)\n",
        "  md = opt(obj_func, lb1, ub1, verbose, epoch, pop_size, problem_size=problem_size)\n",
        "  best_pos, best_fit, list_loss, hist = md.train()\n",
        "  print(\"Fitness value: \", best_fit)\n",
        "  plt.plot(list_loss, label=opt.__name__)\n",
        "plt.legend()\n",
        "plt.title(obj_func.__name__)\n",
        "plt.xlabel('Iterations')\n",
        "plt.ylabel('Fitness value')\n",
        "plt.savefig('results/'+dataset_name+'.png')\n",
        "plt.close()"
      ],
      "execution_count": null,
      "outputs": [
        {
          "output_type": "stream",
          "text": [
            "OriginalHGS\n"
          ],
          "name": "stdout"
        },
        {
          "output_type": "stream",
          "text": [
            "/usr/local/lib/python3.7/dist-packages/ipykernel_launcher.py:37: RuntimeWarning: overflow encountered in exp\n"
          ],
          "name": "stderr"
        },
        {
          "output_type": "stream",
          "text": [
            "Fitness value:  16310.628658273588\n",
            "LevyHGS\n",
            "Fitness value:  16451.64925616769\n",
            "CauchyHGS\n",
            "Fitness value:  16400.57716000668\n"
          ],
          "name": "stdout"
        }
      ]
    },
    {
      "cell_type": "code",
      "metadata": {
        "colab": {
          "base_uri": "https://localhost:8080/",
          "height": 305
        },
        "id": "JvAPZWYqBrmV",
        "outputId": "c758fa47-9373-445b-ea97-f315a0357f6f"
      },
      "source": [
        "Image('results/wine.png')"
      ],
      "execution_count": null,
      "outputs": [
        {
          "output_type": "execute_result",
          "data": {
            "image/png": "[encoded data removed]",
            "text/plain": [
              "<IPython.core.display.Image object>"
            ]
          },
          "metadata": {
            "tags": []
          },
          "execution_count": 106
        }
      ]
    },
    {
      "cell_type": "code",
      "metadata": {
        "colab": {
          "base_uri": "https://localhost:8080/"
        },
        "id": "86QUtRlT9bI7",
        "outputId": "7cb926c3-6e4b-418a-9d82-f3e4bc8e086c"
      },
      "source": [
        "dataset = pd.read_csv('wine.csv')\n",
        "X = dataset.iloc[:,0:-1].values\n",
        "model = K_Means(k=3)\n",
        "model.fit(X)\n",
        "model.hist[-1]"
      ],
      "execution_count": null,
      "outputs": [
        {
          "output_type": "execute_result",
          "data": {
            "text/plain": [
              "18100.762448025536"
            ]
          },
          "metadata": {
            "tags": []
          },
          "execution_count": 91
        }
      ]
    }
  ]
}